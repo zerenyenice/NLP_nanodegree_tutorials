{
  "cells": [
    {
      "cell_type": "markdown",
      "metadata": {
        "id": "EMjXPyPzvuJs"
      },
      "source": [
        "# Sentiment Analysis\n",
        "\n",
        "_Artificial Intelligence Nanodegree Program | Natural Language Processing_\n",
        "\n",
        "---\n",
        "\n",
        "With the rise of online social media platforms like Twitter, Facebook and Reddit, and the proliferation of customer reviews on sites like Amazon and Yelp, we now have access, more than ever before, to massive text-based data sets! They can be analyzed in order to determine how large portions of the population feel about certain products, events, etc. This sort of analysis is called _sentiment analysis_. In this notebook you will build an end-to-end sentiment classification system from scratch.\n",
        "\n",
        "## Instructions\n",
        "\n",
        "Some template code has already been provided for you, and you will need to implement additional functionality to successfully complete this notebook. You will not need to modify the included code beyond what is requested. Sections that begin with '**TODO**' in the header indicate that you need to complete or implement some portion within them. Instructions will be provided for each section and the specifics of the implementation are marked in the code block with a `# TODO: ...` comment. Please be sure to read the instructions carefully!\n",
        "\n",
        "In addition to implementing code, there will be questions for you to answer which relate to the task and your implementation. Each section where you will answer a question is preceded by a '**Question:**' header. Carefully read each question and provide your answer below the '**Answer:**' header by editing the Markdown cell.\n",
        "\n",
        "> **Note**: Code and Markdown cells can be executed using the **Shift+Enter** keyboard shortcut. In addition, a cell can be edited by typically clicking it (double-click for Markdown cells) or by pressing **Enter** while it is highlighted."
      ]
    },
    {
      "cell_type": "markdown",
      "metadata": {
        "id": "8lRgLzxzvuJx"
      },
      "source": [
        "## Step 1: Exploring the data!\n",
        "\n",
        "The dataset we are going to use is very popular among researchers in Natural Language Processing, usually referred to as the [IMDb dataset](http://ai.stanford.edu/~amaas/data/sentiment/). It consists of movie reviews from the website [imdb.com](http://www.imdb.com/), each labeled as either '**pos**itive', if the reviewer enjoyed the film, or '**neg**ative' otherwise.\n",
        "\n",
        "> Maas, Andrew L., et al. [Learning Word Vectors for Sentiment Analysis](http://ai.stanford.edu/~amaas/data/sentiment/). In _Proceedings of the 49th Annual Meeting of the Association for Computational Linguistics: Human Language Technologies_. Association for Computational Linguistics, 2011.\n",
        "\n",
        "We have provided the dataset for you. You can load it in by executing the Python cell below."
      ]
    },
    {
      "cell_type": "code",
      "source": [
        "import tensorflow as tf"
      ],
      "metadata": {
        "id": "1ZcyQYV50FbP"
      },
      "execution_count": 3,
      "outputs": []
    },
    {
      "cell_type": "code",
      "source": [
        "url = \"https://ai.stanford.edu/~amaas/data/sentiment/aclImdb_v1.tar.gz\"\n",
        "dataset = tf.keras.utils.get_file(\"aclImdb_v1\", url,\n",
        "                                    untar=True, cache_dir='.',\n",
        "                                    cache_subdir='')"
      ],
      "metadata": {
        "id": "o2Q4Fjc60DzT"
      },
      "execution_count": null,
      "outputs": []
    },
    {
      "cell_type": "code",
      "execution_count": 5,
      "metadata": {
        "colab": {
          "base_uri": "https://localhost:8080/"
        },
        "id": "IOG3uthvvuJy",
        "outputId": "d58bda7d-ae0a-4375-cb72-d46b55ea71c5"
      },
      "outputs": [
        {
          "output_type": "stream",
          "name": "stdout",
          "text": [
            "IMDb reviews: train = 12500 pos / 12500 neg, test = 12500 pos / 12500 neg\n"
          ]
        }
      ],
      "source": [
        "import os\n",
        "import glob\n",
        "\n",
        "def read_imdb_data(data_dir='aclImdb'):\n",
        "    \"\"\"Read IMDb movie reviews from given directory.\n",
        "    \n",
        "    Directory structure expected:\n",
        "    - data/\n",
        "        - train/\n",
        "            - pos/\n",
        "            - neg/\n",
        "        - test/\n",
        "            - pos/\n",
        "            - neg/\n",
        "    \n",
        "    \"\"\"\n",
        "\n",
        "    # Data, labels to be returned in nested dicts matching the dir. structure\n",
        "    data = {}\n",
        "    labels = {}\n",
        "\n",
        "    # Assume 2 sub-directories: train, test\n",
        "    for data_type in ['train', 'test']:\n",
        "        data[data_type] = {}\n",
        "        labels[data_type] = {}\n",
        "\n",
        "        # Assume 2 sub-directories for sentiment (label): pos, neg\n",
        "        for sentiment in ['pos', 'neg']:\n",
        "            data[data_type][sentiment] = []\n",
        "            labels[data_type][sentiment] = []\n",
        "            \n",
        "            # Fetch list of files for this sentiment\n",
        "            path = os.path.join(data_dir, data_type, sentiment, '*.txt')\n",
        "            files = glob.glob(path)\n",
        "            \n",
        "            # Read reviews data and assign labels\n",
        "            for f in files:\n",
        "                with open(f) as review:\n",
        "                    data[data_type][sentiment].append(review.read())\n",
        "                    labels[data_type][sentiment].append(sentiment)\n",
        "            \n",
        "            assert len(data[data_type][sentiment]) == len(labels[data_type][sentiment]), \\\n",
        "                    \"{}/{} data size does not match labels size\".format(data_type, sentiment)\n",
        "    \n",
        "    # Return data, labels as nested dicts\n",
        "    return data, labels\n",
        "\n",
        "\n",
        "data, labels = read_imdb_data()\n",
        "print(\"IMDb reviews: train = {} pos / {} neg, test = {} pos / {} neg\".format(\n",
        "        len(data['train']['pos']), len(data['train']['neg']),\n",
        "        len(data['test']['pos']), len(data['test']['neg'])))"
      ]
    },
    {
      "cell_type": "markdown",
      "metadata": {
        "id": "vuKBRdNDvuJ0"
      },
      "source": [
        "Now that the data is loaded in, let's take a quick look at one of the positive reviews:"
      ]
    },
    {
      "cell_type": "code",
      "execution_count": 7,
      "metadata": {
        "colab": {
          "base_uri": "https://localhost:8080/"
        },
        "id": "fxAd-Y0gvuJ1",
        "outputId": "92cf1133-e03b-438a-e093-440caaec3f26"
      },
      "outputs": [
        {
          "output_type": "stream",
          "name": "stdout",
          "text": [
            "I had the opportunity to see this film twice at the 2006 Moving Picture Festival In Birmingham, Alabama. I enjoyed it so much that I watched it a second time when they had an encore screening.<br /><br />When I think of the films that are shown at festivals, I usually expect them to be edgy and offbeat, often with the feel of an elaborate student project. There's nothing wrong with these types of projects of course, and I enjoy the unique styles of independent films, but sometimes I want to see a more mainstream approach to independent film-making. By \"mainstream,\" I mean more like a film produced for national release - In other words, a movie that you would see in a regular movie theater.<br /><br />The writing, directing, cinematography, casting and acting in this movie are all totally pro. There is nothing typically independent about this film. As an aspiring director, I am always looking for movies that will motivate me to stop procrastinating and push harder to get my career going. This is one of those films. As I watched The Big Bad Swim, my motivation level was incredible. I felt like my adrenaline had kicked in. The reason I felt this way was because I was so impressed with every aspect of this production. I left the theater excited and ready to start writing that long put-off project. When a movie makes me feel like that, I know it's really good. This is the first feature-length project from Ishai Setton and I found myself wishing that It had been my project. For me, that's really rare.<br /><br />See this film. It's beautifully shot and directed, and the casting is excellent. Paget Brewster delivers a very believable and likable performance. She has a quality about her, a charisma, that really draws you in and keeps you focused on her any time she is on screen. She makes you feel like you know her personally as a friend. That's a gift. I think the industry is really missing out by not utilizing her acting abilities more often. Jeff Branson and Jess Weixler also did top-notch jobs. I can not say enough nice things about The Big Bad Swim. I look forward to future projects from all of those involved in its production.\n"
          ]
        }
      ],
      "source": [
        "print(data['train']['pos'][2])"
      ]
    },
    {
      "cell_type": "markdown",
      "metadata": {
        "id": "rqInFoowvuJ1"
      },
      "source": [
        "And one with a negative sentiment:"
      ]
    },
    {
      "cell_type": "code",
      "execution_count": 8,
      "metadata": {
        "colab": {
          "base_uri": "https://localhost:8080/"
        },
        "id": "ySTIODM2vuJ2",
        "outputId": "2926d888-2d47-4a01-c4c3-91a38736cc66"
      },
      "outputs": [
        {
          "output_type": "stream",
          "name": "stdout",
          "text": [
            "this film is terrible. The characters are completely unbelievable, and wildly inconsistent. The plot is awful and some of the classroom scenes are cringe-worthy and make for uncomfortable viewing.<br /><br />In fact the quality of the script and characterisation would suggest that this film was written by high school students, only the utter lack of credibility to the school environment would suggest that, in fact, the writers probably never went to high school. The acting in most cases was weak too, although a lot of this was down to a poor script and plot, i am not sure that any actors could have made this film watchable.<br /><br />having said that the sound track was OK, and the cinematography was nice in places (although the editing was poor).\n"
          ]
        }
      ],
      "source": [
        "print(data['train']['neg'][2])"
      ]
    },
    {
      "cell_type": "markdown",
      "metadata": {
        "id": "1JQr7QVCvuJ3"
      },
      "source": [
        "We can also make a wordcloud visualization of the reviews."
      ]
    },
    {
      "cell_type": "code",
      "execution_count": 9,
      "metadata": {
        "colab": {
          "base_uri": "https://localhost:8080/"
        },
        "id": "3A0X8qKhvuJ3",
        "outputId": "6be6c68b-48b5-4e86-c736-2c42ce6c2ec8"
      },
      "outputs": [
        {
          "output_type": "stream",
          "name": "stdout",
          "text": [
            "Requirement already satisfied: wordcloud in /usr/local/lib/python3.7/dist-packages (1.5.0)\n",
            "Requirement already satisfied: numpy>=1.6.1 in /usr/local/lib/python3.7/dist-packages (from wordcloud) (1.19.5)\n",
            "Requirement already satisfied: pillow in /usr/local/lib/python3.7/dist-packages (from wordcloud) (7.1.2)\n"
          ]
        }
      ],
      "source": [
        "# Installing wordcloud\n",
        "!pip install wordcloud"
      ]
    },
    {
      "cell_type": "code",
      "execution_count": 10,
      "metadata": {
        "colab": {
          "base_uri": "https://localhost:8080/",
          "height": 198
        },
        "id": "EjaCcstNvuJ4",
        "outputId": "532888af-2023-4f90-d2bf-b963878f6993"
      },
      "outputs": [
        {
          "output_type": "display_data",
          "data": {
            "image/png": "[encoded data removed]",
            "text/plain": [
              "<Figure size 432x288 with 1 Axes>"
            ]
          },
          "metadata": {
            "needs_background": "light"
          }
        }
      ],
      "source": [
        "import matplotlib.pyplot as plt\n",
        "%matplotlib inline\n",
        "\n",
        "from wordcloud import WordCloud, STOPWORDS\n",
        "\n",
        "sentiment = 'neg'\n",
        "\n",
        "# Combine all reviews for the desired sentiment\n",
        "combined_text = \" \".join([review for review in data['train'][sentiment]])\n",
        "\n",
        "# Initialize wordcloud object\n",
        "wc = WordCloud(background_color='white', max_words=50,\n",
        "        # update stopwords to include common words like film and movie\n",
        "        stopwords = STOPWORDS.update(['br','film','movie']))\n",
        "\n",
        "# Generate and plot wordcloud\n",
        "plt.imshow(wc.generate(combined_text))\n",
        "plt.axis('off')\n",
        "plt.show()"
      ]
    },
    {
      "cell_type": "markdown",
      "metadata": {
        "id": "vSi-P1zTvuJ4"
      },
      "source": [
        "Try changing the sentiment to `'neg'` and see if you can spot any obvious differences between the wordclouds."
      ]
    },
    {
      "cell_type": "markdown",
      "metadata": {
        "id": "DQotSX-4vuJ5"
      },
      "source": [
        "### TODO: Form training and test sets\n",
        "\n",
        "Now that you've seen what the raw data looks like, combine the positive and negative documents to get one unified training set and one unified test set."
      ]
    },
    {
      "cell_type": "code",
      "execution_count": 19,
      "metadata": {
        "colab": {
          "base_uri": "https://localhost:8080/"
        },
        "id": "2g48KpRKvuJ5",
        "outputId": "aef85e0c-86e0-4670-ee57-4bf07f89a7f9"
      },
      "outputs": [
        {
          "output_type": "stream",
          "name": "stdout",
          "text": [
            "IMDb reviews (combined): train = 25000, test = 25000\n"
          ]
        }
      ],
      "source": [
        "from sklearn.utils import shuffle\n",
        "import pandas as pd\n",
        "def prepare_imdb_data(data):\n",
        "    \"\"\"Prepare training and test sets from IMDb movie reviews.\"\"\"\n",
        "    \n",
        "    # TODO: Combine positive and negative reviews and labels\n",
        "    \n",
        "    # TODO: Shuffle reviews and corresponding labels within training and test sets\n",
        "    data_train, labels_train = shuffle(data['train']['pos']+data['train']['neg'], labels['train']['pos']+labels['train']['neg'])\n",
        "    data_test, labels_test = shuffle(data['test']['pos']+data['test']['neg'], labels['test']['pos']+labels['test']['neg'])\n",
        "    \n",
        "    # Return a unified training data, test data, training labels, test labets\n",
        "    return data_train, data_test, labels_train, labels_test\n",
        "\n",
        "\n",
        "data_train, data_test, labels_train, labels_test = [pd.DataFrame(x) for x in prepare_imdb_data(data)]\n",
        "print(\"IMDb reviews (combined): train = {}, test = {}\".format(len(data_train), len(data_test)))"
      ]
    },
    {
      "cell_type": "markdown",
      "metadata": {
        "id": "BVw1QOu8vuJ5"
      },
      "source": [
        "## Step 2. Preprocessing\n",
        "\n",
        "As you might have noticed in the sample reviews, our raw data includes HTML. Therefore there are HTML tags that need to be removed. We also need to remove non-letter characters, normalize uppercase letters by converting them to lowercase, tokenize, remove stop words, and stem the remaining words in each document.\n",
        "\n",
        "### TODO: Convert each review to words\n",
        "\n",
        "As your next task, you should complete the function `review_to_words()` that performs all these steps. For your convenience, in the Python cell below we provide you with all the libraries that you may need in order to accomplish these preprocessing steps. Make sure you can import all of them! (If not, pip install from a terminal and run/import again.)"
      ]
    },
    {
      "cell_type": "code",
      "execution_count": 33,
      "metadata": {
        "colab": {
          "base_uri": "https://localhost:8080/"
        },
        "id": "2xWo-_YovuJ6",
        "outputId": "32d3088e-d5bd-4bcc-8dda-7b16a4c74f37"
      },
      "outputs": [
        {
          "output_type": "stream",
          "name": "stdout",
          "text": [
            "[nltk_data] Downloading package stopwords to /root/nltk_data...\n",
            "[nltk_data]   Package stopwords is already up-to-date!\n",
            "[nltk_data] Downloading package punkt to /root/nltk_data...\n",
            "[nltk_data]   Package punkt is already up-to-date!\n"
          ]
        }
      ],
      "source": [
        "# BeautifulSoup to easily remove HTML tags\n",
        "from bs4 import BeautifulSoup \n",
        "\n",
        "# RegEx for removing non-letter characters\n",
        "import re\n",
        "\n",
        "# NLTK library for the remaining steps\n",
        "import nltk\n",
        "nltk.download(\"stopwords\")\n",
        "nltk.download('punkt') # download list of stopwords (only once; need not run it again)\n",
        "from nltk.corpus import stopwords # import stopwords\n",
        "from nltk.tokenize import word_tokenize, RegexpTokenizer\n",
        "TOKENIZER = RegexpTokenizer(r'\\w+')\n",
        "STOP_WORD = stopwords.words(\"english\")\n",
        "from nltk.stem.porter import *\n",
        "stemmer = PorterStemmer()"
      ]
    },
    {
      "cell_type": "code",
      "execution_count": 35,
      "metadata": {
        "colab": {
          "base_uri": "https://localhost:8080/"
        },
        "id": "0AsQdqIJvuJ6",
        "outputId": "96b8a54c-bc06-4f7b-c906-5abaebd340a9"
      },
      "outputs": [
        {
          "output_type": "execute_result",
          "data": {
            "text/plain": [
              "['test', 'test', '1', 'would', 'make', 'great', 'movi', 'review']"
            ]
          },
          "metadata": {},
          "execution_count": 35
        }
      ],
      "source": [
        "def review_to_words(review):\n",
        "    \"\"\"Convert a raw review string into a sequence of words.\"\"\"\n",
        "    \n",
        "    soup = BeautifulSoup(review, \"html5lib\")\n",
        "    \n",
        "    words = soup.get_text()\n",
        "\n",
        "    # TODO: Remove HTML tags and non-letters,\n",
        "    #       convert to lowercase, tokenize,\n",
        "    #       remove stopwords and stem\n",
        "  \n",
        "\n",
        "    return [stemmer.stem(token) for token in TOKENIZER.tokenize(words.lower()) if token not in STOP_WORD]\n",
        "\n",
        "\n",
        "review_to_words(\"\"\"This is just a <em>test</em>.<br/><br /> But if it wasn't a test 1, it would make for a <b>Great</b> movie review!\"\"\")"
      ]
    },
    {
      "cell_type": "markdown",
      "metadata": {
        "id": "2zAeVkBKvuJ7"
      },
      "source": [
        "With the function `review_to_words()` fully implemeneted, we can apply it to all reviews in both training and test datasets. This may take a while, so let's build in a mechanism to write to a cache file and retrieve from it later."
      ]
    },
    {
      "cell_type": "code",
      "source": [
        ""
      ],
      "metadata": {
        "id": "SmHJqgDv65XA"
      },
      "execution_count": null,
      "outputs": []
    },
    {
      "cell_type": "code",
      "source": [
        "#!rm -rf $cache_dir"
      ],
      "metadata": {
        "id": "6p3gGdDg612F"
      },
      "execution_count": 17,
      "outputs": []
    },
    {
      "cell_type": "code",
      "execution_count": 41,
      "metadata": {
        "colab": {
          "base_uri": "https://localhost:8080/"
        },
        "id": "U27rodItvuJ7",
        "outputId": "48f22c8d-f565-47d2-8405-722ab54fd2cd"
      },
      "outputs": [
        {
          "output_type": "stream",
          "name": "stdout",
          "text": [
            "Read preprocessed data from cache file: preprocessed_data.pkl\n",
            "\n",
            "--- Raw review ---\n",
            "Well now, this was certainly a surprise episode. In this anthology science fiction series, with all of this Alien Beings, Extraordinary Occurrences and many Brushes with the Hereafter, this episode would certainly rate as unusual. Its seemingly insignificant settings apparently not imparting any morale at story's end. Or does it? Kicking off with the Silent Movie Form, no recorded dialog, but having Musical accompaniment. In this case it's on the sound track, not utilizing the Playing of Organ or Piano by an on sight Musician. This part of the episode, along with the ending section, also made liberal use o Title Cards, just like \"the Old Time Movies.\" While these Titles are a bit exaggerated and overdone, they are made so intentionally and with an affection for rather than any contempt for The Silent Film.<br /><br />Veteran Comedy Film Director, Norman Z. McLeod, was the man in the Chair for this half-hour installment. He had been the Director of many of the greatest comedies of all time, featuring people like the Marx Brothers, W.C. Fields, Harold Lloyd and Danny Kaye. He was no stranger to to TV, as he had done a lot of work on Television Series.<br /><br />It doesn't appear that he and Mr. Keaton had ever worked together before(as I cannot find any evidence of this)' but judging by the outcome of the film, they succeeded in doing so with flying colors! Anyone who directed Keaton was aware that Buster was also a fine comedy Director as well as a Comedy Player. He was just as comfortable behind the camera as he was in front of it. Their short partnership must have been a harmonious one, with 'give and take' about how to do things. It is apparent that many of the gags were Keaton's, resurrected from his own Silent Picture Days. For example, the gag of putting the pair of pants on with Rollo's(Stanley Adams assistance was done by Keaton and Roscoe \"Fatty\" Arbuckle in one of the Arbuckle 2 Reelers, THE GARAGE (1919). That was a clear example of his craft in a nutshell.<br /><br />Buster knew that we film our world with a camera, rendering it a two dimensional image. This one fact is at the bottom of so many of gags. It is a Cardinal Rule for his film making.<br /><br />The cast was small and once again just chock full-of veteran talent. Stanley Adams was Rollo and served as Mr. Keaton's straight man. Jesse White, the old 'Maytag Repair Man', ran the fix it shop that fixed the 'Time HJelmet'. Gil Lamb, serene veteran of RKO Short Comedy series, was the 1890's Cop. James Flavin, George E.Stone, Harry Fleer, Warren Parker, and Milton Parsons all rounded out this largely silent cast.<br /><br />Without spilling the beans, let's just say that yes, there is probably a lesson to be learned here. If not the one already mentioned, \"The Grass Always Looks Greener on the Other Side of the Fence!\", then how about, \"Be Careful in What You Ask For, Because You Just May Get It!\"\n",
            "\n",
            "--- Preprocessed words ---\n",
            "['well', 'certainli', 'surpris', 'episod', 'antholog', 'scienc', 'fiction', 'seri', 'alien', 'be', 'extraordinari', 'occurr', 'mani', 'brush', 'hereaft', 'episod', 'would', 'certainli', 'rate', 'unusu', 'seemingli', 'insignific', 'set', 'appar', 'impart', 'moral', 'stori', 'end', 'kick', 'silent', 'movi', 'form', 'record', 'dialog', 'music', 'accompani', 'case', 'sound', 'track', 'util', 'play', 'organ', 'piano', 'sight', 'musician', 'part', 'episod', 'along', 'end', 'section', 'also', 'made', 'liber', 'use', 'titl', 'card', 'like', 'old', 'time', 'movi', 'titl', 'bit', 'exagger', 'overdon', 'made', 'intent', 'affect', 'rather', 'contempt', 'silent', 'film', 'veteran', 'comedi', 'film', 'director', 'norman', 'z', 'mcleod', 'man', 'chair', 'half', 'hour', 'instal', 'director', 'mani', 'greatest', 'comedi', 'time', 'featur', 'peopl', 'like', 'marx', 'brother', 'w', 'c', 'field', 'harold', 'lloyd', 'danni', 'kay', 'stranger', 'tv', 'done', 'lot', 'work', 'televis', 'seri', 'appear', 'mr', 'keaton', 'ever', 'work', 'togeth', 'cannot', 'find', 'evid', 'judg', 'outcom', 'film', 'succeed', 'fli', 'color', 'anyon', 'direct', 'keaton', 'awar', 'buster', 'also', 'fine', 'comedi', 'director', 'well', 'comedi', 'player', 'comfort', 'behind', 'camera', 'front', 'short', 'partnership', 'must', 'harmoni', 'one', 'give', 'take', 'thing', 'appar', 'mani', 'gag', 'keaton', 'resurrect', 'silent', 'pictur', 'day', 'exampl', 'gag', 'put', 'pair', 'pant', 'rollo', 'stanley', 'adam', 'assist', 'done', 'keaton', 'rosco', 'fatti', 'arbuckl', 'one', 'arbuckl', '2', 'reeler', 'garag', '1919', 'clear', 'exampl', 'craft', 'nutshel', 'buster', 'knew', 'film', 'world', 'camera', 'render', 'two', 'dimension', 'imag', 'one', 'fact', 'bottom', 'mani', 'gag', 'cardin', 'rule', 'film', 'make', 'cast', 'small', 'chock', 'full', 'veteran', 'talent', 'stanley', 'adam', 'rollo', 'serv', 'mr', 'keaton', 'straight', 'man', 'jess', 'white', 'old', 'maytag', 'repair', 'man', 'ran', 'fix', 'shop', 'fix', 'time', 'hjelmet', 'gil', 'lamb', 'seren', 'veteran', 'rko', 'short', 'comedi', 'seri', '1890', 'cop', 'jame', 'flavin', 'georg', 'e', 'stone', 'harri', 'fleer', 'warren', 'parker', 'milton', 'parson', 'round', 'larg', 'silent', 'cast', 'without', 'spill', 'bean', 'let', 'say', 'ye', 'probabl', 'lesson', 'learn', 'one', 'alreadi', 'mention', 'grass', 'alway', 'look', 'greener', 'side', 'fenc', 'care', 'ask', 'may', 'get']\n",
            "\n",
            "--- Label ---\n",
            "['pos']\n"
          ]
        }
      ],
      "source": [
        "import pickle\n",
        "\n",
        "cache_dir = os.path.join(\"cache\", \"sentiment_analysis\")  # where to store cache files\n",
        "os.makedirs(cache_dir, exist_ok=True)  # ensure cache directory exists\n",
        "\n",
        "def preprocess_data(data_train, data_test, labels_train, labels_test,\n",
        "                    cache_dir=cache_dir, cache_file=\"preprocessed_data.pkl\"):\n",
        "    \"\"\"Convert each review to words; read from cache if available.\"\"\"\n",
        "\n",
        "    # If cache_file is not None, try to read from it first\n",
        "    cache_data = None\n",
        "    if cache_file is not None:\n",
        "        try:\n",
        "            with open(os.path.join(cache_dir, cache_file), \"rb\") as f:\n",
        "                cache_data = pickle.load(f)\n",
        "            print(\"Read preprocessed data from cache file:\", cache_file)\n",
        "        except:\n",
        "            pass  # unable to read from cache, but that's okay\n",
        "    \n",
        "    # If cache is missing, then do the heavy lifting\n",
        "    if cache_data is None:\n",
        "        # Preprocess training and test data to obtain words for each review\n",
        "        words_train = data_train[0].map(review_to_words).values.tolist()\n",
        "        words_test = data_test[0].map(review_to_words).values.tolist()\n",
        "        labels_train = labels_train.values.tolist()\n",
        "        labels_test = labels_test.values.tolist()\n",
        "        \n",
        "        # Write to cache file for future runs\n",
        "        if cache_file is not None:\n",
        "            cache_data = dict(words_train=words_train, words_test=words_test,\n",
        "                              labels_train=labels_train.values.tolist(), labels_test=labels_test.values.tolist())\n",
        "            with open(os.path.join(cache_dir, cache_file), \"wb\") as f:\n",
        "                pickle.dump(cache_data, f)\n",
        "            print(\"Wrote preprocessed data to cache file:\", cache_file)\n",
        "    else:\n",
        "        # Unpack data loaded from cache file\n",
        "        words_train, words_test, labels_train, labels_test = (cache_data['words_train'],\n",
        "                cache_data['words_test'], cache_data['labels_train'], cache_data['labels_test'])\n",
        "    \n",
        "    return words_train, words_test, labels_train, labels_test\n",
        "\n",
        "\n",
        "# Preprocess data\n",
        "words_train, words_test, labels_train, labels_test = preprocess_data(\n",
        "        data_train, data_test, labels_train, labels_test)\n",
        "\n",
        "# Take a look at a sample\n",
        "print(\"\\n--- Raw review ---\")\n",
        "print(data_train[0][1])\n",
        "print(\"\\n--- Preprocessed words ---\")\n",
        "print(words_train[1])\n",
        "print(\"\\n--- Label ---\")\n",
        "print(labels_train[1])"
      ]
    },
    {
      "cell_type": "markdown",
      "metadata": {
        "id": "o1YAy2czvuJ8"
      },
      "source": [
        "## Step 3: Extracting Bag-of-Words features\n",
        "\n",
        "Now that each document has been preprocessed, we can transform each into a Bag-of-Words feature representation. Note that we need to create this transformation based on the training data alone, as we are not allowed to peek at the testing data at all!\n",
        "\n",
        "The dictionary or _vocabulary_ $V$ (set of words shared by documents in the training set) used here will be the one on which we train our supervised learning algorithm. Any future test data must be transformed in the same way for us to be able to apply the learned model for prediction. Hence, it is important to store the transformation / vocabulary as well.\n",
        "\n",
        "> **Note**: The set of words in the training set may not be exactly the same as the test set. What do you do if you encounter a word during testing that you haven't seen before? Unfortunately, we'll have to ignore it, or replace it with a special `<UNK>` token.\n",
        "\n",
        "### TODO: Compute Bag-of-Words features\n",
        "\n",
        "Implement the `extract_BoW_features()` function, apply it to both training and test datasets, and store the results in `features_train` and `features_test` NumPy arrays, respectively. Choose a reasonable vocabulary size, say $|V| = 5000$, and keep only the top $|V|$ occuring words and discard the rest. This number will also serve as the number of columns in the BoW matrices.\n",
        "\n",
        "> **Hint**: You may find it useful to take advantage of `CountVectorizer` from scikit-learn. Also make sure to pickle your Bag-of-Words transformation so that you can use it in future."
      ]
    },
    {
      "cell_type": "code",
      "execution_count": 47,
      "metadata": {
        "colab": {
          "base_uri": "https://localhost:8080/"
        },
        "id": "a9qMc1MYvuJ9",
        "outputId": "948e4435-5cdc-45c8-eb5a-b1357f177d8c"
      },
      "outputs": [
        {
          "output_type": "stream",
          "name": "stdout",
          "text": [
            "Wrote features to cache file: bow_features.pkl\n",
            "Vocabulary: 5000 words\n",
            "Sample words: ['farc', 'bottl', 'lip', 'forti', 'structur', 'beg', 'ambiti', 'importantli']\n",
            "\n",
            "--- Preprocessed words ---\n",
            "['wife', 'rent', 'movi', 'peopl', 'drawn', 'parallel', 'offic', 'space', 'blockbust', 'imdb', 'even', 'also', 'recommend', 'select', 'like', 'offic', 'space', 'seen', 'offic', 'space', 'probabl', '15', '20', 'time', 'love', 'probabl', 'one', '10', 'favorit', 'movi', 'witti', 'humor', 'featur', 'charact', 'remind', 'peopl', 'work', 'year', 'haiku', 'tunnel', 'similar', 'offic', 'space', 'film', 'similar', 'end', 'sat', 'probabl', 'first', '50', 'minut', 'ht', 'give', 'benefit', 'doubt', 'hope', 'nay', 'pray', 'would', 'get', 'better', 'take', 'stop', 'tape', 'thank', 'god', 'free', 'rental', 'p', 'ed', 'actual', 'paid', 'reimburs', 'sit', 'sinc', 'see', 'end', 'perhap', 'miracul', 'come', 'togeth', 'redeem', 'doubt', 'haiku', 'tunnel', 'bad', 'hard', 'believ', 'ever', 'got', 'produc', 'movi', 'unfunni', 'pain', 'mail', 'friggin', 'letter', 'alreadi', 'premis', 'asinin', 'joke', 'aw', 'got', 'far', 'printer', 'work', 'scene', 'stop', 'take', 'anymor', 'film', 'embarras', 'josh', 'kornbluth', 'fan', 'offic', 'space', 'wast', 'time', 'turd', '0', '10']\n",
            "\n",
            "--- Bag-of-Words features ---\n",
            "[1 0 0 ... 0 0 0]\n",
            "\n",
            "--- Label ---\n",
            "['neg']\n"
          ]
        }
      ],
      "source": [
        "import numpy as np\n",
        "from sklearn.feature_extraction.text import CountVectorizer\n",
        "import joblib\n",
        "# joblib is an enhanced version of pickle that is more efficient for storing NumPy arrays\n",
        "\n",
        "\n",
        "\n",
        "def extract_BoW_features(words_train, words_test, vocabulary_size=5000,\n",
        "                         cache_dir=cache_dir, cache_file=\"bow_features.pkl\"):\n",
        "    \"\"\"Extract Bag-of-Words for a given set of documents, already preprocessed into words.\"\"\"\n",
        "    \n",
        "    # If cache_file is not None, try to read from it first\n",
        "    cache_data = None\n",
        "    if cache_file is not None:\n",
        "        try:\n",
        "            with open(os.path.join(cache_dir, cache_file), \"rb\") as f:\n",
        "                cache_data = joblib.load(f)\n",
        "            print(\"Read features from cache file:\", cache_file)\n",
        "        except:\n",
        "            pass  # unable to read from cache, but that's okay\n",
        "    \n",
        "    # If cache is missing, then do the heavy lifting\n",
        "    if cache_data is None:\n",
        "        # TODO: Fit a vectorizer to training documents and use it to transform them\n",
        "        # NOTE: Training documents have already been preprocessed and tokenized into words;\n",
        "        #       pass in dummy functions to skip those steps, e.g. preprocessor=lambda x: x\n",
        "        vectorizer = CountVectorizer(max_features=vocabulary_size,preprocessor=lambda x: x, tokenizer=lambda x: x)\n",
        "        features_train = vectorizer.fit_transform(words_train).toarray()\n",
        "\n",
        "        # TODO: Apply the same vectorizer to transform the test documents (ignore unknown words)\n",
        "        features_test = vectorizer.transform(words_test).toarray()\n",
        "        \n",
        "        # NOTE: Remember to convert the features using .toarray() for a compact representation\n",
        "        \n",
        "        # Write to cache file for future runs (store vocabulary as well)\n",
        "        if cache_file is not None:\n",
        "            vocabulary = vectorizer.vocabulary_\n",
        "            cache_data = dict(features_train=features_train, features_test=features_test,\n",
        "                             vocabulary=vocabulary)\n",
        "            with open(os.path.join(cache_dir, cache_file), \"wb\") as f:\n",
        "                joblib.dump(cache_data, f)\n",
        "            print(\"Wrote features to cache file:\", cache_file)\n",
        "    else:\n",
        "        # Unpack data loaded from cache file\n",
        "        features_train, features_test, vocabulary = (cache_data['features_train'],\n",
        "                cache_data['features_test'], cache_data['vocabulary'])\n",
        "    \n",
        "    # Return both the extracted features as well as the vocabulary\n",
        "    return features_train, features_test, vocabulary\n",
        "\n",
        "\n",
        "# Extract Bag of Words features for both training and test datasets\n",
        "features_train, features_test, vocabulary = extract_BoW_features(words_train, words_test)\n",
        "\n",
        "# Inspect the vocabulary that was computed\n",
        "print(\"Vocabulary: {} words\".format(len(vocabulary)))\n",
        "\n",
        "import random\n",
        "print(\"Sample words: {}\".format(random.sample(list(vocabulary.keys()), 8)))\n",
        "\n",
        "# Sample\n",
        "print(\"\\n--- Preprocessed words ---\")\n",
        "print(words_train[5])\n",
        "print(\"\\n--- Bag-of-Words features ---\")\n",
        "print(features_train[5])\n",
        "print(\"\\n--- Label ---\")\n",
        "print(labels_train[5])"
      ]
    },
    {
      "cell_type": "code",
      "source": [
        "words_test"
      ],
      "metadata": {
        "id": "whefl4-UM6UZ"
      },
      "execution_count": null,
      "outputs": []
    },
    {
      "cell_type": "markdown",
      "metadata": {
        "id": "qy7ZqaQYvuJ9"
      },
      "source": [
        "Let's try to visualize the Bag-of-Words feature vector for one of our training documents."
      ]
    },
    {
      "cell_type": "code",
      "execution_count": 48,
      "metadata": {
        "colab": {
          "base_uri": "https://localhost:8080/",
          "height": 279
        },
        "id": "GI-Vj7ytvuJ9",
        "outputId": "0c8a4422-1ff3-4d24-e3bf-03f99d63b6ae"
      },
      "outputs": [
        {
          "output_type": "display_data",
          "data": {
            "image/png": "[encoded data removed]",
            "text/plain": [
              "<Figure size 432x288 with 1 Axes>"
            ]
          },
          "metadata": {
            "needs_background": "light"
          }
        }
      ],
      "source": [
        "# Plot the BoW feature vector for a training document\n",
        "plt.plot(features_train[5,:])\n",
        "plt.xlabel('Word')\n",
        "plt.ylabel('Count')\n",
        "plt.show()"
      ]
    },
    {
      "cell_type": "markdown",
      "metadata": {
        "id": "wSs_KgaSvuJ-"
      },
      "source": [
        "#### Question: Reflecting on Bag-of-Words feature representation\n",
        "\n",
        "What is the average sparsity level of BoW vectors in our training set? In other words, on average what percentage of entries in a BoW feature vector are zero?\n",
        "\n",
        "#### Answer:\n",
        "\n",
        "...\n",
        "\n",
        "### Zipf's law\n",
        "\n",
        "[Zipf's law](https://en.wikipedia.org/wiki/Zipf%27s_law), named after the famous American linguist George Zipf, is an empirical law stating that given a large collection of documents, the frequency of any word is inversely proportional to its rank in the frequency table. So the most frequent word will occur about twice as often as the second most frequent word, three times as often as the third most frequent word, and so on. In the figure below we plot number of appearances of each word in our training set against its rank."
      ]
    },
    {
      "cell_type": "code",
      "execution_count": 49,
      "metadata": {
        "colab": {
          "base_uri": "https://localhost:8080/",
          "height": 283
        },
        "id": "YKrZiDlYvuJ-",
        "outputId": "f9e9fffc-de91-495f-f1bc-8b686b715b4e"
      },
      "outputs": [
        {
          "output_type": "display_data",
          "data": {
            "image/png": "[encoded data removed]",
            "text/plain": [
              "<Figure size 432x288 with 1 Axes>"
            ]
          },
          "metadata": {
            "needs_background": "light"
          }
        }
      ],
      "source": [
        "# Find number of occurrences for each word in the training set\n",
        "word_freq = features_train.sum(axis=0)\n",
        "\n",
        "# Sort it in descending order\n",
        "sorted_word_freq = np.sort(word_freq)[::-1]\n",
        "\n",
        "# Plot \n",
        "plt.plot(sorted_word_freq)\n",
        "plt.gca().set_xscale('log')\n",
        "plt.gca().set_yscale('log')\n",
        "plt.xlabel('Rank')\n",
        "plt.ylabel('Number of occurrences')\n",
        "plt.show()"
      ]
    },
    {
      "cell_type": "markdown",
      "metadata": {
        "id": "HhTfvIINvuJ-"
      },
      "source": [
        "#### Question: Zipf's law\n",
        "\n",
        "What is the total number of occurrences of the most frequent word? What is the the total number of occurrences of the second most frequent word? Do your numbers follow  Zipf's law? If not, why?\n",
        "\n",
        "#### Answer:\n",
        "\n",
        "...\n",
        "\n",
        "### TODO: Normalize feature vectors\n",
        "\n",
        "Bag-of-Words features are intuitive to understand as they are simply word counts. But counts can vary a lot, and potentially throw off learning algorithms later in the pipeline. So, before we proceed further, let's normalize the BoW feature vectors to have unit length.\n",
        "\n",
        "This makes sure that each document's representation retains the unique mixture of feature components, but prevents documents with large word counts from dominating those with fewer words."
      ]
    },
    {
      "cell_type": "code",
      "execution_count": 72,
      "metadata": {
        "id": "0U6OFALrvuJ-"
      },
      "outputs": [],
      "source": [
        "import sklearn.preprocessing as pr\n",
        "\n",
        "# TODO: Normalize BoW features in training and test set\n",
        "features_train, _ = pr.normalize(features_train,norm='max',return_norm=True,axis=1)\n",
        "features_test, _  = pr.normalize(features_test,norm='max',return_norm=True,axis=1)"
      ]
    },
    {
      "cell_type": "code",
      "source": [
        ""
      ],
      "metadata": {
        "colab": {
          "base_uri": "https://localhost:8080/"
        },
        "id": "WDbyQQ8KQtFA",
        "outputId": "816a7108-3eb6-477b-d4b2-571579ed391a"
      },
      "execution_count": 71,
      "outputs": [
        {
          "output_type": "execute_result",
          "data": {
            "text/plain": [
              "1.0"
            ]
          },
          "metadata": {},
          "execution_count": 71
        }
      ]
    },
    {
      "cell_type": "markdown",
      "metadata": {
        "id": "89SYskqQvuJ_"
      },
      "source": [
        "## Step 4: Classification using BoW features\n",
        "\n",
        "Now that the data has all been properly transformed, we can feed it into a classifier. To get a baseline model, we train a Naive Bayes classifier from scikit-learn (specifically, [`GaussianNB`](http://scikit-learn.org/stable/modules/generated/sklearn.naive_bayes.GaussianNB.html)), and evaluate its accuracy on the test set."
      ]
    },
    {
      "cell_type": "code",
      "execution_count": 73,
      "metadata": {
        "colab": {
          "base_uri": "https://localhost:8080/"
        },
        "id": "AFW3-0GrvuJ_",
        "outputId": "46a51924-b2cd-4767-efbc-88add8d877b2"
      },
      "outputs": [
        {
          "output_type": "stream",
          "name": "stderr",
          "text": [
            "/usr/local/lib/python3.7/dist-packages/sklearn/utils/validation.py:985: DataConversionWarning: A column-vector y was passed when a 1d array was expected. Please change the shape of y to (n_samples, ), for example using ravel().\n",
            "  y = column_or_1d(y, warn=True)\n"
          ]
        },
        {
          "output_type": "stream",
          "name": "stdout",
          "text": [
            "[GaussianNB] Accuracy: train = 0.80532, test = 0.71268\n"
          ]
        }
      ],
      "source": [
        "from sklearn.naive_bayes import GaussianNB\n",
        "\n",
        "# TODO: Train a Guassian Naive Bayes classifier\n",
        "clf1 = GaussianNB()\n",
        "clf1.fit(features_train,labels_train)\n",
        "# Calculate the mean accuracy score on training and test sets\n",
        "print(\"[{}] Accuracy: train = {}, test = {}\".format(\n",
        "        clf1.__class__.__name__,\n",
        "        clf1.score(features_train, labels_train),\n",
        "        clf1.score(features_test, labels_test)))"
      ]
    },
    {
      "cell_type": "markdown",
      "metadata": {
        "id": "nkAegdIRvuJ_"
      },
      "source": [
        "Tree-based algorithms often work quite well on Bag-of-Words as their highly discontinuous and sparse nature is nicely matched by the structure of trees. As your next task, you will try to improve on the Naive Bayes classifier's performance by using scikit-learn's Gradient-Boosted Decision Tree classifer.\n",
        "\n",
        "### TODO: Gradient-Boosted Decision Tree classifier\n",
        "\n",
        "Use [`GradientBoostingClassifier`](http://scikit-learn.org/stable/modules/generated/sklearn.ensemble.GradientBoostingClassifier.html) from scikit-learn to classify the BoW data. This model has a number of parameters. We use default parameters for some of them and pre-set the rest for you, except one: `n_estimators`. Find a proper value for this hyperparameter, use it to classify the data, and report how much improvement you get over Naive Bayes in terms of accuracy.\n",
        "\n",
        "> **Tip**: Use a model selection technique such as cross-validation, grid-search, or an information criterion method, to find an optimal value for the hyperparameter."
      ]
    },
    {
      "cell_type": "code",
      "execution_count": 82,
      "metadata": {
        "collapsed": true,
        "colab": {
          "base_uri": "https://localhost:8080/"
        },
        "id": "eH0WI6eavuJ_",
        "outputId": "aeee497d-3acd-48c0-c0e6-7df7baa51348"
      },
      "outputs": [
        {
          "output_type": "stream",
          "name": "stdout",
          "text": [
            "Fitting 4 folds for each of 2 candidates, totalling 8 fits\n"
          ]
        },
        {
          "output_type": "stream",
          "name": "stderr",
          "text": [
            "/usr/local/lib/python3.7/dist-packages/sklearn/ensemble/_gb.py:494: DataConversionWarning: A column-vector y was passed when a 1d array was expected. Please change the shape of y to (n_samples, ), for example using ravel().\n",
            "  y = column_or_1d(y, warn=True)\n",
            "/usr/local/lib/python3.7/dist-packages/sklearn/ensemble/_gb.py:494: DataConversionWarning: A column-vector y was passed when a 1d array was expected. Please change the shape of y to (n_samples, ), for example using ravel().\n",
            "  y = column_or_1d(y, warn=True)\n",
            "/usr/local/lib/python3.7/dist-packages/sklearn/ensemble/_gb.py:494: DataConversionWarning: A column-vector y was passed when a 1d array was expected. Please change the shape of y to (n_samples, ), for example using ravel().\n",
            "  y = column_or_1d(y, warn=True)\n",
            "/usr/local/lib/python3.7/dist-packages/sklearn/ensemble/_gb.py:494: DataConversionWarning: A column-vector y was passed when a 1d array was expected. Please change the shape of y to (n_samples, ), for example using ravel().\n",
            "  y = column_or_1d(y, warn=True)\n",
            "/usr/local/lib/python3.7/dist-packages/sklearn/ensemble/_gb.py:494: DataConversionWarning: A column-vector y was passed when a 1d array was expected. Please change the shape of y to (n_samples, ), for example using ravel().\n",
            "  y = column_or_1d(y, warn=True)\n",
            "/usr/local/lib/python3.7/dist-packages/sklearn/ensemble/_gb.py:494: DataConversionWarning: A column-vector y was passed when a 1d array was expected. Please change the shape of y to (n_samples, ), for example using ravel().\n",
            "  y = column_or_1d(y, warn=True)\n",
            "/usr/local/lib/python3.7/dist-packages/sklearn/ensemble/_gb.py:494: DataConversionWarning: A column-vector y was passed when a 1d array was expected. Please change the shape of y to (n_samples, ), for example using ravel().\n",
            "  y = column_or_1d(y, warn=True)\n",
            "/usr/local/lib/python3.7/dist-packages/sklearn/ensemble/_gb.py:494: DataConversionWarning: A column-vector y was passed when a 1d array was expected. Please change the shape of y to (n_samples, ), for example using ravel().\n",
            "  y = column_or_1d(y, warn=True)\n",
            "/usr/local/lib/python3.7/dist-packages/sklearn/ensemble/_gb.py:494: DataConversionWarning: A column-vector y was passed when a 1d array was expected. Please change the shape of y to (n_samples, ), for example using ravel().\n",
            "  y = column_or_1d(y, warn=True)\n"
          ]
        },
        {
          "output_type": "stream",
          "name": "stdout",
          "text": [
            "training accuracy:  0.8466\n",
            "test accuracy:  0.85448\n"
          ]
        }
      ],
      "source": [
        "from sklearn.ensemble import GradientBoostingClassifier\n",
        "from sklearn.model_selection import GridSearchCV\n",
        "\n",
        "n_estimators = [128,256]\n",
        "\n",
        "def classify_gboost(X_train, X_test, y_train, y_test):        \n",
        "    # Initialize classifier\n",
        "    clf = GradientBoostingClassifier(learning_rate=1.0, max_depth=1, random_state=0)\n",
        "\n",
        "    gs = GridSearchCV(clf,param_grid={'n_estimators':n_estimators},scoring='accuracy',cv=4,verbose=1)\n",
        "    # TODO: Classify the data using GradientBoostingClassifier\n",
        "    gs.fit(X_train,y_train)\n",
        "    # TODO(optional): Perform hyperparameter tuning / model selection\n",
        "    \n",
        "    # TODO: Print final training & test accuracy\n",
        "\n",
        "    print('training accuracy: ',gs.best_score_)\n",
        "    print('test accuracy: ',gs.best_estimator_.score(X_test, y_test))\n",
        "    \n",
        "    # Return best classifier model\n",
        "    return gs.best_estimator_\n",
        "\n",
        "\n",
        "clf2 = classify_gboost(features_train, features_test, labels_train, labels_test)"
      ]
    },
    {
      "cell_type": "markdown",
      "metadata": {
        "id": "GCx2doZqvuJ_"
      },
      "source": [
        "### TODO: Adverserial testing\n",
        "\n",
        "Write a short movie review to trick your machine learning model! That is, a movie review with a clear positive or negative sentiment that your model will classify incorrectly.\n",
        "\n",
        "> **Hint**: You might want to take advantage of the biggest weakness of the Bag-of-Words scheme!"
      ]
    },
    {
      "cell_type": "code",
      "execution_count": 97,
      "metadata": {
        "collapsed": true,
        "colab": {
          "base_uri": "https://localhost:8080/"
        },
        "id": "siRfAjiRvuJ_",
        "outputId": "bbc7d0e4-9fea-47ad-c642-ec0f428e868b"
      },
      "outputs": [
        {
          "output_type": "stream",
          "name": "stdout",
          "text": [
            "['neg']\n"
          ]
        }
      ],
      "source": [
        "# TODO: Write a sample review and set its true sentiment\n",
        "my_review = \"I was really so bored while watching this movie\"\n",
        "true_sentiment = 'neg'  # sentiment must be 'pos' or 'neg'\n",
        "\n",
        "# TODO: Apply the same preprocessing and vectorizing steps as you did for your training data\n",
        "words = review_to_words(my_review)\n",
        "# TODO: Then call your classifier to label it\n",
        "\n",
        "vectorizer = CountVectorizer(preprocessor=lambda x: x, tokenizer=lambda x: x, vocabulary=vocabulary)\n",
        "features = vectorizer.transform([words]).toarray()\n",
        "features, _ = pr.normalize(features,norm='max',return_norm=True,axis=1)\n",
        "\n",
        "print(clf2.predict(features))"
      ]
    },
    {
      "cell_type": "markdown",
      "metadata": {
        "id": "Gy2RudlivuKA"
      },
      "source": [
        "## Extensions\n",
        "\n",
        "There are several ways in which you can build upon this notebook. Each comes with its set of challenges, but can be a rewarding experience.\n",
        "\n",
        "- The first thing is to try and improve the accuracy of your model by experimenting with different architectures, layers and parameters. How good can you get without taking prohibitively long to train? How do you prevent overfitting?\n",
        "\n",
        "- Then, you may want to deploy your model as a mobile app or web service. What do you need to do in order to package your model for such deployment? How would you accept a new review, convert it into a form suitable for your model, and perform the actual prediction? (Note that the same environment you used during training may not be available.)\n",
        "\n",
        "- One simplification we made in this notebook is to limit the task to binary classification. The dataset actually includes a more fine-grained review rating that is indicated in each review's filename (which is of the form `<[id]_[rating].txt>` where `[id]` is a unique identifier and `[rating]` is on a scale of 1-10; note that neutral reviews > 4 or < 7 have been excluded). How would you modify the notebook to perform regression on the review ratings? In what situations is regression more useful than classification, and vice-versa?\n",
        "\n",
        "Whatever direction you take, make sure to share your results and learnings with your peers, through blogs, discussions and participating in online competitions. This is also a great way to become more visible to potential employers!"
      ]
    },
    {
      "cell_type": "code",
      "execution_count": null,
      "metadata": {
        "collapsed": true,
        "id": "WA68YCVivuKA"
      },
      "outputs": [],
      "source": [
        ""
      ]
    }
  ],
  "metadata": {
    "kernelspec": {
      "display_name": "Python 3",
      "language": "python",
      "name": "python3"
    },
    "language_info": {
      "codemirror_mode": {
        "name": "ipython",
        "version": 3
      },
      "file_extension": ".py",
      "mimetype": "text/x-python",
      "name": "python",
      "nbconvert_exporter": "python",
      "pygments_lexer": "ipython3",
      "version": "3.6.3"
    },
    "colab": {
      "name": "sentiment_analysis.ipynb",
      "provenance": []
    }
  },
  "nbformat": 4,
  "nbformat_minor": 0
}