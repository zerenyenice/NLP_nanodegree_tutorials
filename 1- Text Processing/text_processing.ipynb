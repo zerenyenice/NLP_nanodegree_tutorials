{
 "cells": [
  {
   "cell_type": "markdown",
   "metadata": {},
   "source": [
    "# Text Processing\n",
    "\n",
    "## Capturing Text Data\n",
    "\n",
    "### Plain Text"
   ]
  },
  {
   "cell_type": "code",
   "execution_count": 25,
   "metadata": {},
   "outputs": [
    {
     "name": "stdout",
     "output_type": "stream",
     "text": [
      "Hieroglyphic writing dates from c. 3000 BC, and is composed of hundreds of symbols. A hieroglyph can represent a word, a sound, or a silent determinative; and the same symbol can serve different purposes in different contexts. Hieroglyphs were a formal script, used on stone monuments and in tombs, that could be as detailed as individual works of art.\n",
      "\n"
     ]
    }
   ],
   "source": [
    "import os\n",
    "\n",
    "# Read in a plain text file\n",
    "with open(os.path.join(\"data\", \"hieroglyph.txt\"), \"r\") as f:\n",
    "    text = f.read()\n",
    "    print(text)"
   ]
  },
  {
   "cell_type": "markdown",
   "metadata": {},
   "source": [
    "### Tabular Data"
   ]
  },
  {
   "cell_type": "code",
   "execution_count": 2,
   "metadata": {
    "scrolled": true
   },
   "outputs": [
    {
     "data": {
      "text/html": [
       "<div>\n",
       "<style scoped>\n",
       "    .dataframe tbody tr th:only-of-type {\n",
       "        vertical-align: middle;\n",
       "    }\n",
       "\n",
       "    .dataframe tbody tr th {\n",
       "        vertical-align: top;\n",
       "    }\n",
       "\n",
       "    .dataframe thead th {\n",
       "        text-align: right;\n",
       "    }\n",
       "</style>\n",
       "<table border=\"1\" class=\"dataframe\">\n",
       "  <thead>\n",
       "    <tr style=\"text-align: right;\">\n",
       "      <th></th>\n",
       "      <th>publisher</th>\n",
       "      <th>title</th>\n",
       "    </tr>\n",
       "  </thead>\n",
       "  <tbody>\n",
       "    <tr>\n",
       "      <th>0</th>\n",
       "      <td>Livemint</td>\n",
       "      <td>fed's charles plosser sees high bar for change...</td>\n",
       "    </tr>\n",
       "    <tr>\n",
       "      <th>1</th>\n",
       "      <td>IFA Magazine</td>\n",
       "      <td>us open: stocks fall after fed official hints ...</td>\n",
       "    </tr>\n",
       "    <tr>\n",
       "      <th>2</th>\n",
       "      <td>IFA Magazine</td>\n",
       "      <td>fed risks falling 'behind the curve', charles ...</td>\n",
       "    </tr>\n",
       "    <tr>\n",
       "      <th>3</th>\n",
       "      <td>Moneynews</td>\n",
       "      <td>fed's plosser: nasty weather has curbed job gr...</td>\n",
       "    </tr>\n",
       "    <tr>\n",
       "      <th>4</th>\n",
       "      <td>NASDAQ</td>\n",
       "      <td>plosser: fed may have to accelerate tapering pace</td>\n",
       "    </tr>\n",
       "  </tbody>\n",
       "</table>\n",
       "</div>"
      ],
      "text/plain": [
       "      publisher                                              title\n",
       "0      Livemint  fed's charles plosser sees high bar for change...\n",
       "1  IFA Magazine  us open: stocks fall after fed official hints ...\n",
       "2  IFA Magazine  fed risks falling 'behind the curve', charles ...\n",
       "3     Moneynews  fed's plosser: nasty weather has curbed job gr...\n",
       "4        NASDAQ  plosser: fed may have to accelerate tapering pace"
      ]
     },
     "execution_count": 2,
     "metadata": {},
     "output_type": "execute_result"
    }
   ],
   "source": [
    "import pandas as pd\n",
    "\n",
    "# Extract text column from a dataframe\n",
    "df = pd.read_csv(os.path.join(\"data\", \"news.csv\"))\n",
    "df.head()[['publisher', 'title']]\n",
    "\n",
    "# Convert text column to lowercase\n",
    "df['title'] = df['title'].str.lower()\n",
    "df.head()[['publisher', 'title']]"
   ]
  },
  {
   "cell_type": "markdown",
   "metadata": {},
   "source": [
    "### Online Resource"
   ]
  },
  {
   "cell_type": "code",
   "execution_count": 3,
   "metadata": {
    "scrolled": true
   },
   "outputs": [
    {
     "name": "stderr",
     "output_type": "stream",
     "text": [
      "/opt/conda/lib/python3.6/site-packages/urllib3/connectionpool.py:858: InsecureRequestWarning: Unverified HTTPS request is being made. Adding certificate verification is strongly advised. See: https://urllib3.readthedocs.io/en/latest/advanced-usage.html#ssl-warnings\n",
      "  InsecureRequestWarning)\n"
     ]
    },
    {
     "name": "stdout",
     "output_type": "stream",
     "text": [
      "{\n",
      "    \"success\": {\n",
      "        \"total\": 1\n",
      "    },\n",
      "    \"contents\": {\n",
      "        \"quotes\": [\n",
      "            {\n",
      "                \"quote\": \"If you're changing the world, you're working on important things. You're excited to get up in the morning.\",\n",
      "                \"length\": \"127\",\n",
      "                \"author\": \"Larry Page\",\n",
      "                \"tags\": {\n",
      "                    \"0\": \"inspire\",\n",
      "                    \"1\": \"life\",\n",
      "                    \"3\": \"tod\"\n",
      "                },\n",
      "                \"category\": \"inspire\",\n",
      "                \"language\": \"en\",\n",
      "                \"date\": \"2022-01-03\",\n",
      "                \"permalink\": \"https://theysaidso.com/quote/larry-page-if-youre-changing-the-world-youre-working-on-important-things-youre-e\",\n",
      "                \"id\": \"0dzDlCr3MHcglyOEBJ875weF\",\n",
      "                \"background\": \"https://theysaidso.com/img/qod/qod-inspire.jpg\",\n",
      "                \"title\": \"Inspiring Quote of the day\"\n",
      "            }\n",
      "        ]\n",
      "    },\n",
      "    \"baseurl\": \"https://theysaidso.com\",\n",
      "    \"copyright\": {\n",
      "        \"year\": 2024,\n",
      "        \"url\": \"https://theysaidso.com\"\n",
      "    }\n",
      "}\n",
      "If you're changing the world, you're working on important things. You're excited to get up in the morning. \n",
      "-- Larry Page\n"
     ]
    }
   ],
   "source": [
    "import requests\n",
    "import json\n",
    "\n",
    "# Fetch data from a REST API (note- in production avoid setting verify to False)\n",
    "r = requests.get(\n",
    "    \"https://quotes.rest/qod.json\", verify=False) \n",
    "res = r.json()\n",
    "print(json.dumps(res, indent=4))\n",
    "\n",
    "# Extract relevant object and field\n",
    "q = res[\"contents\"][\"quotes\"][0]\n",
    "print(q[\"quote\"], \"\\n--\", q[\"author\"])"
   ]
  },
  {
   "cell_type": "markdown",
   "metadata": {},
   "source": [
    "## Cleaning"
   ]
  },
  {
   "cell_type": "code",
   "execution_count": 4,
   "metadata": {
    "scrolled": true
   },
   "outputs": [
    {
     "name": "stdout",
     "output_type": "stream",
     "text": [
      "<html lang=\"en\" op=\"news\"><head><meta name=\"referrer\" content=\"origin\"><meta name=\"viewport\" content=\"width=device-width, initial-scale=1.0\"><link rel=\"stylesheet\" type=\"text/css\" href=\"news.css?ggo8cLqmTxcG9oVMxDqY\">\n",
      "        <link rel=\"shortcut icon\" href=\"favicon.ico\">\n",
      "          <link rel=\"alternate\" type=\"application/rss+xml\" title=\"RSS\" href=\"rss\">\n",
      "        <title>Hacker News</title></head><body><center><table id=\"hnmain\" border=\"0\" cellpadding=\"0\" cellspacing=\"0\" width=\"85%\" bgcolor=\"#f6f6ef\">\n",
      "        <tr><td bgcolor=\"#ff6600\"><table border=\"0\" cellpadding=\"0\" cellspacing=\"0\" width=\"100%\" style=\"padding:2px\"><tr><td style=\"width:18px;padding-right:4px\"><a href=\"https://news.ycombinator.com\"><img src=\"y18.gif\" width=\"18\" height=\"18\" style=\"border:1px white solid;\"></a></td>\n",
      "                  <td style=\"line-height:12pt; height:10px;\"><span class=\"pagetop\"><b class=\"hnname\"><a href=\"news\">Hacker News</a></b>\n",
      "              <a href=\"newest\">new</a> | <a href=\"front\">past</a> | <a href=\"newcomments\">comments</a> | <a href=\"ask\">ask</a> | <a href=\"show\">show</a> | <a href=\"jobs\">jobs</a> | <a href=\"submit\">submit</a>            </span></td><td style=\"text-align:right;padding-right:4px;\"><span class=\"pagetop\">\n",
      "                              <a href=\"login?goto=news\">login</a>\n",
      "                          </span></td>\n",
      "              </tr></table></td></tr>\n",
      "<tr id=\"pagespace\" title=\"\" style=\"height:10px\"></tr><tr><td><table border=\"0\" cellpadding=\"0\" cellspacing=\"0\" class=\"itemlist\">\n",
      "              <tr class='athing' id='29784238'>\n",
      "      <td align=\"right\" valign=\"top\" class=\"title\"><span class=\"rank\">1.</span></td>      <td valign=\"top\" class=\"votelinks\"><center><a id='up_29784238'href='vote?id=29784238&amp;how=up&amp;goto=news'><div class='votearrow' title='upvote'></div></a></center></td><td class=\"title\"><a href=\"https://github.com/tkellogg/dura\" class=\"titlelink\">Dura is a background process that watches your Git repositories</a><span class=\"sitebit comhead\"> (<a href=\"from?site=github.com/tkellogg\"><span class=\"sitestr\">github.com/tkellogg</span></a>)</span></td></tr><tr><td colspan=\"2\"></td><td class=\"subtext\">\n",
      "        <span class=\"score\" id=\"score_29784238\">175 points</span> by <a href=\"user?id=todsacerdoti\" class=\"hnuser\">todsacerdoti</a> <span class=\"age\" title=\"2022-01-03T18:25:10\"><a href=\"item?id=29784238\">2 hours ago</a></span> <span id=\"unv_29784238\"></span> | <a href=\"hide?id=29784238&amp;goto=news\">hide</a> | <a href=\"item?id=29784238\">81&nbsp;comments</a>              </td></tr>\n",
      "      <tr class=\"spacer\" style=\"height:5px\"></tr>\n",
      "                <tr class='athing' id='29782186'>\n",
      "      <td align=\"right\" valign=\"top\" class=\"title\"><span class=\"rank\">2.</span></td>      <td valign=\"top\" class=\"votelinks\"><center><a id='up_29782186'href='vote?id=29782186&amp;how=up&amp;goto=news'><div class='votearrow' title='upvote'></div></a></center></td><td class=\"title\"><a href=\"https://twitter.com/paulg/status/1477760548787920901\" class=\"titlelink\">Search engines and SEO spam</a><span class=\"sitebit comhead\"> (<a href=\"from?site=twitter.com/paulg\"><span class=\"sitestr\">twitter.com/paulg</span></a>)</span></td></tr><tr><td colspan=\"2\"></td><td class=\"subtext\">\n",
      "        <span class=\"score\" id=\"score_29782186\">366 points</span> by <a href=\"user?id=iamjbn\" class=\"hnuser\">iamjbn</a> <span class=\"age\" title=\"2022-01-03T16:08:15\"><a href=\"item?id=29782186\">4 hours ago</a></span> <span id=\"unv_29782186\"></span> | <a href=\"hide?id=29782186&amp;goto=news\">hide</a> | <a href=\"item?id=29782186\">348&nbsp;comments</a>              </td></tr>\n",
      "      <tr class=\"spacer\" style=\"height:5px\"></tr>\n",
      "                <tr class='athing' id='29783585'>\n",
      "      <td align=\"right\" valign=\"top\" class=\"title\"><span class=\"rank\">3.</span></td>      <td valign=\"top\" class=\"votelinks\"><center><a id='up_29783585'href='vote?id=29783585&amp;how=up&amp;goto=news'><div class='votearrow' title='upvote'></div></a></center></td><td class=\"title\"><a href=\"http://ryanhileman.info/posts/lib43\" class=\"titlelink\">C Runtime Overhead (2015)</a><span class=\"sitebit comhead\"> (<a href=\"from?site=ryanhileman.info\"><span class=\"sitestr\">ryanhileman.info</span></a>)</span></td></tr><tr><td colspan=\"2\"></td><td class=\"subtext\">\n",
      "        <span class=\"score\" id=\"score_29783585\">81 points</span> by <a href=\"user?id=Zababa\" class=\"hnuser\">Zababa</a> <span class=\"age\" title=\"2022-01-03T17:41:01\"><a href=\"item?id=29783585\">3 hours ago</a></span> <span id=\"unv_29783585\"></span> | <a href=\"hide?id=29783585&amp;goto=news\">hide</a> | <a href=\"item?id=29783585\">11&nbsp;comments</a>              </td></tr>\n",
      "      <tr class=\"spacer\" style=\"height:5px\"></tr>\n",
      "                <tr class='athing' id='29782099'>\n",
      "      <td align=\"right\" valign=\"top\" class=\"title\"><span class=\"rank\">4.</span></td>      <td valign=\"top\" class=\"votelinks\"><center><a id='up_29782099'href='vote?id=29782099&amp;how=up&amp;goto=news'><div class='votearrow' title='upvote'></div></a></center></td><td class=\"title\"><a href=\"item?id=29782099\" class=\"titlelink\">Ask HN: Who is hiring? (January 2022)</a></td></tr><tr><td colspan=\"2\"></td><td class=\"subtext\">\n",
      "        <span class=\"score\" id=\"score_29782099\">199 points</span> by <a href=\"user?id=whoishiring\" class=\"hnuser\">whoishiring</a> <span class=\"age\" title=\"2022-01-03T16:02:14\"><a href=\"item?id=29782099\">4 hours ago</a></span> <span id=\"unv_29782099\"></span> | <a href=\"hide?id=29782099&amp;goto=news\">hide</a> | <a href=\"item?id=29782099\">318&nbsp;comments</a>              </td></tr>\n",
      "      <tr class=\"spacer\" style=\"height:5px\"></tr>\n",
      "                <tr class='athing' id='29781019'>\n",
      "      <td align=\"right\" valign=\"top\" class=\"title\"><span class=\"rank\">5.</span></td>      <td valign=\"top\" class=\"votelinks\"><center><a id='up_29781019'href='vote?id=29781019&amp;how=up&amp;goto=news'><div class='votearrow' title='upvote'></div></a></center></td><td class=\"title\"><a href=\"https://blog.willemmelching.nl/carhacking/2022/01/02/vw-part1/\" class=\"titlelink\">Hacking a VW Golf Power Steering ECU</a><span class=\"sitebit comhead\"> (<a href=\"from?site=willemmelching.nl\"><span class=\"sitestr\">willemmelching.nl</span></a>)</span></td></tr><tr><td colspan=\"2\"></td><td class=\"subtext\">\n",
      "        <span class=\"score\" id=\"score_29781019\">242 points</span> by <a href=\"user?id=ingve\" class=\"hnuser\">ingve</a> <span class=\"age\" title=\"2022-01-03T14:22:31\"><a href=\"item?id=29781019\">6 hours ago</a></span> <span id=\"unv_29781019\"></span> | <a href=\"hide?id=29781019&amp;goto=news\">hide</a> | <a href=\"item?id=29781019\">103&nbsp;comments</a>              </td></tr>\n",
      "      <tr class=\"spacer\" style=\"height:5px\"></tr>\n",
      "                <tr class='athing' id='29780739'>\n",
      "      <td align=\"right\" valign=\"top\" class=\"title\"><span class=\"rank\">6.</span></td>      <td valign=\"top\" class=\"votelinks\"><center><a id='up_29780739'href='vote?id=29780739&amp;how=up&amp;goto=news'><div class='votearrow' title='upvote'></div></a></center></td><td class=\"title\"><a href=\"https://ebiten.org/blog/native_compiling_for_nintendo_switch.html\" class=\"titlelink\">Compiling a Go program into a native binary for Nintendo Switch</a><span class=\"sitebit comhead\"> (<a href=\"from?site=ebiten.org\"><span class=\"sitestr\">ebiten.org</span></a>)</span></td></tr><tr><td colspan=\"2\"></td><td class=\"subtext\">\n",
      "        <span class=\"score\" id=\"score_29780739\">219 points</span> by <a href=\"user?id=hajimehoshi\" class=\"hnuser\">hajimehoshi</a> <span class=\"age\" title=\"2022-01-03T13:49:47\"><a href=\"item?id=29780739\">6 hours ago</a></span> <span id=\"unv_29780739\"></span> | <a href=\"hide?id=29780739&amp;goto=news\">hide</a> | <a href=\"item?id=29780739\">9&nbsp;comments</a>              </td></tr>\n",
      "      <tr class=\"spacer\" style=\"height:5px\"></tr>\n",
      "                <tr class='athing' id='29786007'>\n",
      "      <td align=\"right\" valign=\"top\" class=\"title\"><span class=\"rank\">7.</span></td>      <td valign=\"top\" class=\"votelinks\"><center><a id='up_29786007'href='vote?id=29786007&amp;how=up&amp;goto=news'><div class='votearrow' title='upvote'></div></a></center></td><td class=\"title\"><a href=\"https://davnicwil.com/tips-for-making-writing-more-fun/\" class=\"titlelink\">Tips for making writing more fun</a><span class=\"sitebit comhead\"> (<a href=\"from?site=davnicwil.com\"><span class=\"sitestr\">davnicwil.com</span></a>)</span></td></tr><tr><td colspan=\"2\"></td><td class=\"subtext\">\n",
      "        <span class=\"score\" id=\"score_29786007\">10 points</span> by <a href=\"user?id=davnicwil\" class=\"hnuser\">davnicwil</a> <span class=\"age\" title=\"2022-01-03T20:11:14\"><a href=\"item?id=29786007\">31 minutes ago</a></span> <span id=\"unv_29786007\"></span> | <a href=\"hide?id=29786007&amp;goto=news\">hide</a> | <a href=\"item?id=29786007\">3&nbsp;comments</a>              </td></tr>\n",
      "      <tr class=\"spacer\" style=\"height:5px\"></tr>\n",
      "                <tr class='athing' id='29777937'>\n",
      "      <td align=\"right\" valign=\"top\" class=\"title\"><span class=\"rank\">8.</span></td>      <td valign=\"top\" class=\"votelinks\"><center><a id='up_29777937'href='vote?id=29777937&amp;how=up&amp;goto=news'><div class='votearrow' title='upvote'></div></a></center></td><td class=\"title\"><a href=\"https://historygarage.com/emile-leray-survived-the-desert-by-building-a-motorcycle-from-his-broken-car/\" class=\"titlelink\">Surviving the desert by building a motorcycle from a broken car? (2017)</a><span class=\"sitebit comhead\"> (<a href=\"from?site=historygarage.com\"><span class=\"sitestr\">historygarage.com</span></a>)</span></td></tr><tr><td colspan=\"2\"></td><td class=\"subtext\">\n",
      "        <span class=\"score\" id=\"score_29777937\">62 points</span> by <a href=\"user?id=kenneth\" class=\"hnuser\">kenneth</a> <span class=\"age\" title=\"2022-01-03T06:23:55\"><a href=\"item?id=29777937\">4 hours ago</a></span> <span id=\"unv_29777937\"></span> | <a href=\"hide?id=29777937&amp;goto=news\">hide</a> | <a href=\"item?id=29777937\">31&nbsp;comments</a>              </td></tr>\n",
      "      <tr class=\"spacer\" style=\"height:5px\"></tr>\n",
      "                <tr class='athing' id='29782793'>\n",
      "      <td align=\"right\" valign=\"top\" class=\"title\"><span class=\"rank\">9.</span></td>      <td valign=\"top\" class=\"votelinks\"><center><a id='up_29782793'href='vote?id=29782793&amp;how=up&amp;goto=news'><div class='votearrow' title='upvote'></div></a></center></td><td class=\"title\"><a href=\"https://media.ccc.de/v/rc3-2021-chaoszone-409-when-wikileaks-bu\" class=\"titlelink\">When WikiLeaks bumped into the CIA: Operation Kudo exposed [video]</a><span class=\"sitebit comhead\"> (<a href=\"from?site=ccc.de\"><span class=\"sitestr\">ccc.de</span></a>)</span></td></tr><tr><td colspan=\"2\"></td><td class=\"subtext\">\n",
      "        <span class=\"score\" id=\"score_29782793\">68 points</span> by <a href=\"user?id=HelenePhisher\" class=\"hnuser\">HelenePhisher</a> <span class=\"age\" title=\"2022-01-03T16:51:19\"><a href=\"item?id=29782793\">3 hours ago</a></span> <span id=\"unv_29782793\"></span> | <a href=\"hide?id=29782793&amp;goto=news\">hide</a> | <a href=\"item?id=29782793\">8&nbsp;comments</a>              </td></tr>\n",
      "      <tr class=\"spacer\" style=\"height:5px\"></tr>\n",
      "                <tr class='athing' id='29784913'>\n",
      "      <td align=\"right\" valign=\"top\" class=\"title\"><span class=\"rank\">10.</span></td>      <td valign=\"top\" class=\"votelinks\"><center><a id='up_29784913'href='vote?id=29784913&amp;how=up&amp;goto=news'><div class='votearrow' title='upvote'></div></a></center></td><td class=\"title\"><a href=\"https://mattstoller.substack.com/p/economists-to-cattle-ranchers-stop\" class=\"titlelink\">High beef prices and the destruction of independent cattle ranching</a><span class=\"sitebit comhead\"> (<a href=\"from?site=mattstoller.substack.com\"><span class=\"sitestr\">mattstoller.substack.com</span></a>)</span></td></tr><tr><td colspan=\"2\"></td><td class=\"subtext\">\n",
      "        <span class=\"score\" id=\"score_29784913\">65 points</span> by <a href=\"user?id=BobbyVsTheDevil\" class=\"hnuser\">BobbyVsTheDevil</a> <span class=\"age\" title=\"2022-01-03T19:10:19\"><a href=\"item?id=29784913\">1 hour ago</a></span> <span id=\"unv_29784913\"></span> | <a href=\"hide?id=29784913&amp;goto=news\">hide</a> | <a href=\"item?id=29784913\">24&nbsp;comments</a>              </td></tr>\n",
      "      <tr class=\"spacer\" style=\"height:5px\"></tr>\n",
      "                <tr class='athing' id='29784788'>\n",
      "      <td align=\"right\" valign=\"top\" class=\"title\"><span class=\"rank\">11.</span></td>      <td valign=\"top\" class=\"votelinks\"><center><a id='up_29784788'href='vote?id=29784788&amp;how=up&amp;goto=news'><div class='votearrow' title='upvote'></div></a></center></td><td class=\"title\"><a href=\"https://asmtutor.com/\" class=\"titlelink\">NASM Assembly Language Tutorials</a><span class=\"sitebit comhead\"> (<a href=\"from?site=asmtutor.com\"><span class=\"sitestr\">asmtutor.com</span></a>)</span></td></tr><tr><td colspan=\"2\"></td><td class=\"subtext\">\n",
      "        <span class=\"score\" id=\"score_29784788\">19 points</span> by <a href=\"user?id=garren\" class=\"hnuser\">garren</a> <span class=\"age\" title=\"2022-01-03T19:01:53\"><a href=\"item?id=29784788\">1 hour ago</a></span> <span id=\"unv_29784788\"></span> | <a href=\"hide?id=29784788&amp;goto=news\">hide</a> | <a href=\"item?id=29784788\">discuss</a>              </td></tr>\n",
      "      <tr class=\"spacer\" style=\"height:5px\"></tr>\n",
      "                <tr class='athing' id='29781027'>\n",
      "      <td align=\"right\" valign=\"top\" class=\"title\"><span class=\"rank\">12.</span></td>      <td valign=\"top\" class=\"votelinks\"><center><a id='up_29781027'href='vote?id=29781027&amp;how=up&amp;goto=news'><div class='votearrow' title='upvote'></div></a></center></td><td class=\"title\"><a href=\"item?id=29781027\" class=\"titlelink\">Ask HN: Why is there a chip shortage?</a></td></tr><tr><td colspan=\"2\"></td><td class=\"subtext\">\n",
      "        <span class=\"score\" id=\"score_29781027\">105 points</span> by <a href=\"user?id=mohanmcgeek\" class=\"hnuser\">mohanmcgeek</a> <span class=\"age\" title=\"2022-01-03T14:22:59\"><a href=\"item?id=29781027\">6 hours ago</a></span> <span id=\"unv_29781027\"></span> | <a href=\"hide?id=29781027&amp;goto=news\">hide</a> | <a href=\"item?id=29781027\">113&nbsp;comments</a>              </td></tr>\n",
      "      <tr class=\"spacer\" style=\"height:5px\"></tr>\n",
      "                <tr class='athing' id='29782927'>\n",
      "      <td align=\"right\" valign=\"top\" class=\"title\"><span class=\"rank\">13.</span></td>      <td></td><td class=\"title\"><a href=\"https://www.ycombinator.com/companies/metaphor/jobs/z9af6mz-research-scientist-or-research-engineer\" class=\"titlelink\" rel=\"nofollow\">Metaphor (YC S21) Is Hiring Self-Supervised Learning Researchers</a><span class=\"sitebit comhead\"> (<a href=\"from?site=ycombinator.com\"><span class=\"sitestr\">ycombinator.com</span></a>)</span></td></tr><tr><td colspan=\"2\"></td><td class=\"subtext\">\n",
      "        <span class=\"age\" title=\"2022-01-03T17:00:19\"><a href=\"item?id=29782927\">3 hours ago</a></span> | <a href=\"hide?id=29782927&amp;goto=news\">hide</a>      </td></tr>\n",
      "      <tr class=\"spacer\" style=\"height:5px\"></tr>\n",
      "                <tr class='athing' id='29782009'>\n",
      "      <td align=\"right\" valign=\"top\" class=\"title\"><span class=\"rank\">14.</span></td>      <td valign=\"top\" class=\"votelinks\"><center><a id='up_29782009'href='vote?id=29782009&amp;how=up&amp;goto=news'><div class='votearrow' title='upvote'></div></a></center></td><td class=\"title\"><a href=\"https://www.newyorker.com/magazine/2021/02/15/the-drenching-richness-of-andrei-tarkovsky\" class=\"titlelink\">The Drenching Richness of Andrei Tarkovsky</a><span class=\"sitebit comhead\"> (<a href=\"from?site=newyorker.com\"><span class=\"sitestr\">newyorker.com</span></a>)</span></td></tr><tr><td colspan=\"2\"></td><td class=\"subtext\">\n",
      "        <span class=\"score\" id=\"score_29782009\">74 points</span> by <a href=\"user?id=drjohnson\" class=\"hnuser\">drjohnson</a> <span class=\"age\" title=\"2022-01-03T15:55:45\"><a href=\"item?id=29782009\">4 hours ago</a></span> <span id=\"unv_29782009\"></span> | <a href=\"hide?id=29782009&amp;goto=news\">hide</a> | <a href=\"item?id=29782009\">46&nbsp;comments</a>              </td></tr>\n",
      "      <tr class=\"spacer\" style=\"height:5px\"></tr>\n",
      "                <tr class='athing' id='29779559'>\n",
      "      <td align=\"right\" valign=\"top\" class=\"title\"><span class=\"rank\">15.</span></td>      <td valign=\"top\" class=\"votelinks\"><center><a id='up_29779559'href='vote?id=29779559&amp;how=up&amp;goto=news'><div class='votearrow' title='upvote'></div></a></center></td><td class=\"title\"><a href=\"https://nick.comer.io/post/ios-shortcuts\" class=\"titlelink\">Using a mild Twitter addiction to get things done</a><span class=\"sitebit comhead\"> (<a href=\"from?site=comer.io\"><span class=\"sitestr\">comer.io</span></a>)</span></td></tr><tr><td colspan=\"2\"></td><td class=\"subtext\">\n",
      "        <span class=\"score\" id=\"score_29779559\">289 points</span> by <a href=\"user?id=nkcmr\" class=\"hnuser\">nkcmr</a> <span class=\"age\" title=\"2022-01-03T11:08:01\"><a href=\"item?id=29779559\">9 hours ago</a></span> <span id=\"unv_29779559\"></span> | <a href=\"hide?id=29779559&amp;goto=news\">hide</a> | <a href=\"item?id=29779559\">97&nbsp;comments</a>              </td></tr>\n",
      "      <tr class=\"spacer\" style=\"height:5px\"></tr>\n",
      "                <tr class='athing' id='29779618'>\n",
      "      <td align=\"right\" valign=\"top\" class=\"title\"><span class=\"rank\">16.</span></td>      <td valign=\"top\" class=\"votelinks\"><center><a id='up_29779618'href='vote?id=29779618&amp;how=up&amp;goto=news'><div class='votearrow' title='upvote'></div></a></center></td><td class=\"title\"><a href=\"https://github.com/dgtlmoon/changedetection.io\" class=\"titlelink\">Show HN: Changedetection.io detect changes in websites and JSON feeds</a><span class=\"sitebit comhead\"> (<a href=\"from?site=github.com/dgtlmoon\"><span class=\"sitestr\">github.com/dgtlmoon</span></a>)</span></td></tr><tr><td colspan=\"2\"></td><td class=\"subtext\">\n",
      "        <span class=\"score\" id=\"score_29779618\">81 points</span> by <a href=\"user?id=biggunz\" class=\"hnuser\">biggunz</a> <span class=\"age\" title=\"2022-01-03T11:17:20\"><a href=\"item?id=29779618\">5 hours ago</a></span> <span id=\"unv_29779618\"></span> | <a href=\"hide?id=29779618&amp;goto=news\">hide</a> | <a href=\"item?id=29779618\">21&nbsp;comments</a>              </td></tr>\n",
      "      <tr class=\"spacer\" style=\"height:5px\"></tr>\n",
      "                <tr class='athing' id='29781910'>\n",
      "      <td align=\"right\" valign=\"top\" class=\"title\"><span class=\"rank\">17.</span></td>      <td valign=\"top\" class=\"votelinks\"><center><a id='up_29781910'href='vote?id=29781910&amp;how=up&amp;goto=news'><div class='votearrow' title='upvote'></div></a></center></td><td class=\"title\"><a href=\"https://www.kqed.org/arts/13906656/a-bay-area-mans-1953-prophecy-predicted-smartphones-video-calls-and-apple-watches\" class=\"titlelink\">In 1953 a telco executive predicts the rise of smartphones and video calls</a><span class=\"sitebit comhead\"> (<a href=\"from?site=kqed.org\"><span class=\"sitestr\">kqed.org</span></a>)</span></td></tr><tr><td colspan=\"2\"></td><td class=\"subtext\">\n",
      "        <span class=\"score\" id=\"score_29781910\">61 points</span> by <a href=\"user?id=giuliomagnifico\" class=\"hnuser\">giuliomagnifico</a> <span class=\"age\" title=\"2022-01-03T15:48:23\"><a href=\"item?id=29781910\">4 hours ago</a></span> <span id=\"unv_29781910\"></span> | <a href=\"hide?id=29781910&amp;goto=news\">hide</a> | <a href=\"item?id=29781910\">51&nbsp;comments</a>              </td></tr>\n",
      "      <tr class=\"spacer\" style=\"height:5px\"></tr>\n",
      "                <tr class='athing' id='29785046'>\n",
      "      <td align=\"right\" valign=\"top\" class=\"title\"><span class=\"rank\">18.</span></td>      <td valign=\"top\" class=\"votelinks\"><center><a id='up_29785046'href='vote?id=29785046&amp;how=up&amp;goto=news'><div class='votearrow' title='upvote'></div></a></center></td><td class=\"title\"><a href=\"item?id=29785046\" class=\"titlelink\">Poll: Which FAANG is the most likely to decline in the years ahead?</a></td></tr><tr><td colspan=\"2\"></td><td class=\"subtext\">\n",
      "        <span class=\"score\" id=\"score_29785046\">97 points</span> by <a href=\"user?id=Victerius\" class=\"hnuser\">Victerius</a> <span class=\"age\" title=\"2022-01-03T19:19:56\"><a href=\"item?id=29785046\">1 hour ago</a></span> <span id=\"unv_29785046\"></span> | <a href=\"hide?id=29785046&amp;goto=news\">hide</a> | <a href=\"item?id=29785046\">212&nbsp;comments</a>              </td></tr>\n",
      "      <tr class=\"spacer\" style=\"height:5px\"></tr>\n",
      "                <tr class='athing' id='29780829'>\n",
      "      <td align=\"right\" valign=\"top\" class=\"title\"><span class=\"rank\">19.</span></td>      <td valign=\"top\" class=\"votelinks\"><center><a id='up_29780829'href='vote?id=29780829&amp;how=up&amp;goto=news'><div class='votearrow' title='upvote'></div></a></center></td><td class=\"title\"><a href=\"https://worldsensorium.com/healthy-soil-is-the-real-key-to-feeding-the-world/\" class=\"titlelink\">Healthy soil is key to feeding the world</a><span class=\"sitebit comhead\"> (<a href=\"from?site=worldsensorium.com\"><span class=\"sitestr\">worldsensorium.com</span></a>)</span></td></tr><tr><td colspan=\"2\"></td><td class=\"subtext\">\n",
      "        <span class=\"score\" id=\"score_29780829\">213 points</span> by <a href=\"user?id=dnetesn\" class=\"hnuser\">dnetesn</a> <span class=\"age\" title=\"2022-01-03T14:02:40\"><a href=\"item?id=29780829\">6 hours ago</a></span> <span id=\"unv_29780829\"></span> | <a href=\"hide?id=29780829&amp;goto=news\">hide</a> | <a href=\"item?id=29780829\">105&nbsp;comments</a>              </td></tr>\n",
      "      <tr class=\"spacer\" style=\"height:5px\"></tr>\n",
      "                <tr class='athing' id='29781325'>\n",
      "      <td align=\"right\" valign=\"top\" class=\"title\"><span class=\"rank\">20.</span></td>      <td valign=\"top\" class=\"votelinks\"><center><a id='up_29781325'href='vote?id=29781325&amp;how=up&amp;goto=news'><div class='votearrow' title='upvote'></div></a></center></td><td class=\"title\"><a href=\"https://winworldpc.com/library/operating-systems\" class=\"titlelink\">The World of Vintage Operating Systems</a><span class=\"sitebit comhead\"> (<a href=\"from?site=winworldpc.com\"><span class=\"sitestr\">winworldpc.com</span></a>)</span></td></tr><tr><td colspan=\"2\"></td><td class=\"subtext\">\n",
      "        <span class=\"score\" id=\"score_29781325\">77 points</span> by <a href=\"user?id=Koshkin\" class=\"hnuser\">Koshkin</a> <span class=\"age\" title=\"2022-01-03T14:53:34\"><a href=\"item?id=29781325\">5 hours ago</a></span> <span id=\"unv_29781325\"></span> | <a href=\"hide?id=29781325&amp;goto=news\">hide</a> | <a href=\"item?id=29781325\">41&nbsp;comments</a>              </td></tr>\n",
      "      <tr class=\"spacer\" style=\"height:5px\"></tr>\n",
      "                <tr class='athing' id='29784384'>\n",
      "      <td align=\"right\" valign=\"top\" class=\"title\"><span class=\"rank\">21.</span></td>      <td valign=\"top\" class=\"votelinks\"><center><a id='up_29784384'href='vote?id=29784384&amp;how=up&amp;goto=news'><div class='votearrow' title='upvote'></div></a></center></td><td class=\"title\"><a href=\"https://www.echevarria.io/blog/the-matrix-looks-different-hulu-hbo-max/index.html\" class=\"titlelink\">The Matrix looks dramatically different on Hulu versus on HBO Max</a><span class=\"sitebit comhead\"> (<a href=\"from?site=echevarria.io\"><span class=\"sitestr\">echevarria.io</span></a>)</span></td></tr><tr><td colspan=\"2\"></td><td class=\"subtext\">\n",
      "        <span class=\"score\" id=\"score_29784384\">119 points</span> by <a href=\"user?id=ivanech\" class=\"hnuser\">ivanech</a> <span class=\"age\" title=\"2022-01-03T18:34:09\"><a href=\"item?id=29784384\">2 hours ago</a></span> <span id=\"unv_29784384\"></span> | <a href=\"hide?id=29784384&amp;goto=news\">hide</a> | <a href=\"item?id=29784384\">91&nbsp;comments</a>              </td></tr>\n",
      "      <tr class=\"spacer\" style=\"height:5px\"></tr>\n",
      "                <tr class='athing' id='29782096'>\n",
      "      <td align=\"right\" valign=\"top\" class=\"title\"><span class=\"rank\">22.</span></td>      <td valign=\"top\" class=\"votelinks\"><center><a id='up_29782096'href='vote?id=29782096&amp;how=up&amp;goto=news'><div class='votearrow' title='upvote'></div></a></center></td><td class=\"title\"><a href=\"item?id=29782096\" class=\"titlelink\">Ask HN: Who wants to be hired? (January 2022)</a></td></tr><tr><td colspan=\"2\"></td><td class=\"subtext\">\n",
      "        <span class=\"score\" id=\"score_29782096\">54 points</span> by <a href=\"user?id=whoishiring\" class=\"hnuser\">whoishiring</a> <span class=\"age\" title=\"2022-01-03T16:02:11\"><a href=\"item?id=29782096\">4 hours ago</a></span> <span id=\"unv_29782096\"></span> | <a href=\"hide?id=29782096&amp;goto=news\">hide</a> | <a href=\"item?id=29782096\">88&nbsp;comments</a>              </td></tr>\n",
      "      <tr class=\"spacer\" style=\"height:5px\"></tr>\n",
      "                <tr class='athing' id='29781928'>\n",
      "      <td align=\"right\" valign=\"top\" class=\"title\"><span class=\"rank\">23.</span></td>      <td valign=\"top\" class=\"votelinks\"><center><a id='up_29781928'href='vote?id=29781928&amp;how=up&amp;goto=news'><div class='votearrow' title='upvote'></div></a></center></td><td class=\"title\"><a href=\"https://www.gwern.net/CYOA\" class=\"titlelink\">Choose-Your-Own-Adventure AI Dungeon Games</a><span class=\"sitebit comhead\"> (<a href=\"from?site=gwern.net\"><span class=\"sitestr\">gwern.net</span></a>)</span></td></tr><tr><td colspan=\"2\"></td><td class=\"subtext\">\n",
      "        <span class=\"score\" id=\"score_29781928\">57 points</span> by <a href=\"user?id=eversowhatev\" class=\"hnuser\">eversowhatev</a> <span class=\"age\" title=\"2022-01-03T15:49:35\"><a href=\"item?id=29781928\">4 hours ago</a></span> <span id=\"unv_29781928\"></span> | <a href=\"hide?id=29781928&amp;goto=news\">hide</a> | <a href=\"item?id=29781928\">8&nbsp;comments</a>              </td></tr>\n",
      "      <tr class=\"spacer\" style=\"height:5px\"></tr>\n",
      "                <tr class='athing' id='29779946'>\n",
      "      <td align=\"right\" valign=\"top\" class=\"title\"><span class=\"rank\">24.</span></td>      <td valign=\"top\" class=\"votelinks\"><center><a id='up_29779946'href='vote?id=29779946&amp;how=up&amp;goto=news'><div class='votearrow' title='upvote'></div></a></center></td><td class=\"title\"><a href=\"https://arxiv.org/abs/1801.03534\" class=\"titlelink\">Mechanical Computing Systems Using Only Links and Rotary Joints</a><span class=\"sitebit comhead\"> (<a href=\"from?site=arxiv.org\"><span class=\"sitestr\">arxiv.org</span></a>)</span></td></tr><tr><td colspan=\"2\"></td><td class=\"subtext\">\n",
      "        <span class=\"score\" id=\"score_29779946\">17 points</span> by <a href=\"user?id=ColinWright\" class=\"hnuser\">ColinWright</a> <span class=\"age\" title=\"2022-01-03T12:09:11\"><a href=\"item?id=29779946\">1 hour ago</a></span> <span id=\"unv_29779946\"></span> | <a href=\"hide?id=29779946&amp;goto=news\">hide</a> | <a href=\"item?id=29779946\">1&nbsp;comment</a>              </td></tr>\n",
      "      <tr class=\"spacer\" style=\"height:5px\"></tr>\n",
      "                <tr class='athing' id='29785864'>\n",
      "      <td align=\"right\" valign=\"top\" class=\"title\"><span class=\"rank\">25.</span></td>      <td valign=\"top\" class=\"votelinks\"><center><a id='up_29785864'href='vote?id=29785864&amp;how=up&amp;goto=news'><div class='votearrow' title='upvote'></div></a></center></td><td class=\"title\"><a href=\"https://martin.kleppmann.com/2022/01/03/future-of-fusion-energy.html\" class=\"titlelink\" rel=\"nofollow\">Book Review: The Future of Fusion Energy</a><span class=\"sitebit comhead\"> (<a href=\"from?site=kleppmann.com\"><span class=\"sitestr\">kleppmann.com</span></a>)</span></td></tr><tr><td colspan=\"2\"></td><td class=\"subtext\">\n",
      "        <span class=\"score\" id=\"score_29785864\">8 points</span> by <a href=\"user?id=bschne\" class=\"hnuser\">bschne</a> <span class=\"age\" title=\"2022-01-03T20:03:50\"><a href=\"item?id=29785864\">38 minutes ago</a></span> <span id=\"unv_29785864\"></span> | <a href=\"hide?id=29785864&amp;goto=news\">hide</a> | <a href=\"item?id=29785864\">discuss</a>              </td></tr>\n",
      "      <tr class=\"spacer\" style=\"height:5px\"></tr>\n",
      "                <tr class='athing' id='29783996'>\n",
      "      <td align=\"right\" valign=\"top\" class=\"title\"><span class=\"rank\">26.</span></td>      <td valign=\"top\" class=\"votelinks\"><center><a id='up_29783996'href='vote?id=29783996&amp;how=up&amp;goto=news'><div class='votearrow' title='upvote'></div></a></center></td><td class=\"title\"><a href=\"https://tarahenley.substack.com/p/speaking-freely\" class=\"titlelink\">Speaking Freely: Why I resigned from the Canadian Broadcasting Corporation</a><span class=\"sitebit comhead\"> (<a href=\"from?site=tarahenley.substack.com\"><span class=\"sitestr\">tarahenley.substack.com</span></a>)</span></td></tr><tr><td colspan=\"2\"></td><td class=\"subtext\">\n",
      "        <span class=\"score\" id=\"score_29783996\">283 points</span> by <a href=\"user?id=steelstraw\" class=\"hnuser\">steelstraw</a> <span class=\"age\" title=\"2022-01-03T18:09:24\"><a href=\"item?id=29783996\">2 hours ago</a></span> <span id=\"unv_29783996\"></span> | <a href=\"hide?id=29783996&amp;goto=news\">hide</a> | <a href=\"item?id=29783996\">250&nbsp;comments</a>              </td></tr>\n",
      "      <tr class=\"spacer\" style=\"height:5px\"></tr>\n",
      "                <tr class='athing' id='29783610'>\n",
      "      <td align=\"right\" valign=\"top\" class=\"title\"><span class=\"rank\">27.</span></td>      <td valign=\"top\" class=\"votelinks\"><center><a id='up_29783610'href='vote?id=29783610&amp;how=up&amp;goto=news'><div class='votearrow' title='upvote'></div></a></center></td><td class=\"title\"><a href=\"https://lwn.net/Articles/880248/\" class=\"titlelink\">GnuPG is now financially self-sustaining</a><span class=\"sitebit comhead\"> (<a href=\"from?site=lwn.net\"><span class=\"sitestr\">lwn.net</span></a>)</span></td></tr><tr><td colspan=\"2\"></td><td class=\"subtext\">\n",
      "        <span class=\"score\" id=\"score_29783610\">109 points</span> by <a href=\"user?id=bonzini\" class=\"hnuser\">bonzini</a> <span class=\"age\" title=\"2022-01-03T17:42:26\"><a href=\"item?id=29783610\">2 hours ago</a></span> <span id=\"unv_29783610\"></span> | <a href=\"hide?id=29783610&amp;goto=news\">hide</a> | <a href=\"item?id=29783610\">11&nbsp;comments</a>              </td></tr>\n",
      "      <tr class=\"spacer\" style=\"height:5px\"></tr>\n",
      "                <tr class='athing' id='29786132'>\n",
      "      <td align=\"right\" valign=\"top\" class=\"title\"><span class=\"rank\">28.</span></td>      <td valign=\"top\" class=\"votelinks\"><center><a id='up_29786132'href='vote?id=29786132&amp;how=up&amp;goto=news'><div class='votearrow' title='upvote'></div></a></center></td><td class=\"title\"><a href=\"https://coqui.ai/\" class=\"titlelink\" rel=\"nofollow\">Show HN: Clone your voice and speak a foreign language</a><span class=\"sitebit comhead\"> (<a href=\"from?site=coqui.ai\"><span class=\"sitestr\">coqui.ai</span></a>)</span></td></tr><tr><td colspan=\"2\"></td><td class=\"subtext\">\n",
      "        <span class=\"score\" id=\"score_29786132\">7 points</span> by <a href=\"user?id=_josh_meyer_\" class=\"hnuser\">_josh_meyer_</a> <span class=\"age\" title=\"2022-01-03T20:17:15\"><a href=\"item?id=29786132\">25 minutes ago</a></span> <span id=\"unv_29786132\"></span> | <a href=\"hide?id=29786132&amp;goto=news\">hide</a> | <a href=\"item?id=29786132\">discuss</a>              </td></tr>\n",
      "      <tr class=\"spacer\" style=\"height:5px\"></tr>\n",
      "                <tr class='athing' id='29782281'>\n",
      "      <td align=\"right\" valign=\"top\" class=\"title\"><span class=\"rank\">29.</span></td>      <td valign=\"top\" class=\"votelinks\"><center><a id='up_29782281'href='vote?id=29782281&amp;how=up&amp;goto=news'><div class='votearrow' title='upvote'></div></a></center></td><td class=\"title\"><a href=\"https://github.com/maximeborges/pico-rmii-ethernet\" class=\"titlelink\">RPi Pico: 100BASE-T with cheap ethernet PHY module</a><span class=\"sitebit comhead\"> (<a href=\"from?site=github.com/maximeborges\"><span class=\"sitestr\">github.com/maximeborges</span></a>)</span></td></tr><tr><td colspan=\"2\"></td><td class=\"subtext\">\n",
      "        <span class=\"score\" id=\"score_29782281\">50 points</span> by <a href=\"user?id=mborges\" class=\"hnuser\">mborges</a> <span class=\"age\" title=\"2022-01-03T16:15:54\"><a href=\"item?id=29782281\">4 hours ago</a></span> <span id=\"unv_29782281\"></span> | <a href=\"hide?id=29782281&amp;goto=news\">hide</a> | <a href=\"item?id=29782281\">14&nbsp;comments</a>              </td></tr>\n",
      "      <tr class=\"spacer\" style=\"height:5px\"></tr>\n",
      "                <tr class='athing' id='29780098'>\n",
      "      <td align=\"right\" valign=\"top\" class=\"title\"><span class=\"rank\">30.</span></td>      <td valign=\"top\" class=\"votelinks\"><center><a id='up_29780098'href='vote?id=29780098&amp;how=up&amp;goto=news'><div class='votearrow' title='upvote'></div></a></center></td><td class=\"title\"><a href=\"https://serdigital64.github.io/post/terraform/terraform-scripting-concepts-part1of2/\" class=\"titlelink\">Terraform Scripting Concepts</a><span class=\"sitebit comhead\"> (<a href=\"from?site=serdigital64.github.io\"><span class=\"sitestr\">serdigital64.github.io</span></a>)</span></td></tr><tr><td colspan=\"2\"></td><td class=\"subtext\">\n",
      "        <span class=\"score\" id=\"score_29780098\">22 points</span> by <a href=\"user?id=serdigital64\" class=\"hnuser\">serdigital64</a> <span class=\"age\" title=\"2022-01-03T12:29:54\"><a href=\"item?id=29780098\">2 hours ago</a></span> <span id=\"unv_29780098\"></span> | <a href=\"hide?id=29780098&amp;goto=news\">hide</a> | <a href=\"item?id=29780098\">18&nbsp;comments</a>              </td></tr>\n",
      "      <tr class=\"spacer\" style=\"height:5px\"></tr>\n",
      "            <tr class=\"morespace\" style=\"height:10px\"></tr><tr><td colspan=\"2\"></td>\n",
      "      <td class='title'><a href='news?p=2' class='morelink' rel='next'>More</a></td>    </tr>\n",
      "  </table>\n",
      "</td></tr>\n",
      "<tr><td><img src=\"s.gif\" height=\"10\" width=\"0\"><table width=\"100%\" cellspacing=\"0\" cellpadding=\"1\"><tr><td bgcolor=\"#ff6600\"></td></tr></table><br><center><span class=\"yclinks\"><a href=\"newsguidelines.html\">Guidelines</a>\n",
      "        | <a href=\"newsfaq.html\">FAQ</a>\n",
      "        | <a href=\"lists\">Lists</a>\n",
      "        | <a href=\"https://github.com/HackerNews/API\">API</a>\n",
      "        | <a href=\"security.html\">Security</a>\n",
      "        | <a href=\"http://www.ycombinator.com/legal/\">Legal</a>\n",
      "        | <a href=\"http://www.ycombinator.com/apply/\">Apply to YC</a>\n",
      "        | <a href=\"mailto:hn@ycombinator.com\">Contact</a></span><br><br><form method=\"get\" action=\"//hn.algolia.com/\">Search:\n",
      "          <input type=\"text\" name=\"q\" value=\"\" size=\"17\" autocorrect=\"off\" spellcheck=\"false\" autocapitalize=\"off\" autocomplete=\"false\"></form>\n",
      "            </center></td></tr>\n",
      "      </table></center></body><script type='text/javascript' src='hn.js?ggo8cLqmTxcG9oVMxDqY'></script></html>\n",
      "\n"
     ]
    }
   ],
   "source": [
    "import requests\n",
    "\n",
    "# Fetch a web page\n",
    "r = requests.get(\"https://news.ycombinator.com\")\n",
    "print(r.text)"
   ]
  },
  {
   "cell_type": "code",
   "execution_count": 5,
   "metadata": {},
   "outputs": [
    {
     "name": "stdout",
     "output_type": "stream",
     "text": [
      "\n",
      "        \n",
      "          \n",
      "        Hacker News\n",
      "        \n",
      "                  Hacker News\n",
      "              new | past | comments | ask | show | jobs | submit            \n",
      "                              login\n",
      "                          \n",
      "              \n",
      "\n",
      "              \n",
      "      1.      Dura is a background process that watches your Git repositories (github.com/tkellogg)\n",
      "        175 points by todsacerdoti 2 hours ago  | hide | 81&nbsp;comments              \n",
      "      \n",
      "                \n",
      "      2.      Search engines and SEO spam (twitter.com/paulg)\n",
      "        366 points by iamjbn 4 hours ago  | hide | 348&nbsp;comments              \n",
      "      \n",
      "                \n",
      "      3.      C Runtime Overhead (2015) (ryanhileman.info)\n",
      "        81 points by Zababa 3 hours ago  | hide | 11&nbsp;comments              \n",
      "      \n",
      "                \n",
      "      4.      Ask HN: Who is hiring? (January 2022)\n",
      "        199 points by whoishiring 4 hours ago  | hide | 318&nbsp;comments              \n",
      "      \n",
      "                \n",
      "      5.      Hacking a VW Golf Power Steering ECU (willemmelching.nl)\n",
      "        242 points by ingve 6 hours ago  | hide | 103&nbsp;comments              \n",
      "      \n",
      "                \n",
      "      6.      Compiling a Go program into a native binary for Nintendo Switch (ebiten.org)\n",
      "        219 points by hajimehoshi 6 hours ago  | hide | 9&nbsp;comments              \n",
      "      \n",
      "                \n",
      "      7.      Tips for making writing more fun (davnicwil.com)\n",
      "        10 points by davnicwil 31 minutes ago  | hide | 3&nbsp;comments              \n",
      "      \n",
      "                \n",
      "      8.      Surviving the desert by building a motorcycle from a broken car? (2017) (historygarage.com)\n",
      "        62 points by kenneth 4 hours ago  | hide | 31&nbsp;comments              \n",
      "      \n",
      "                \n",
      "      9.      When WikiLeaks bumped into the CIA: Operation Kudo exposed [video] (ccc.de)\n",
      "        68 points by HelenePhisher 3 hours ago  | hide | 8&nbsp;comments              \n",
      "      \n",
      "                \n",
      "      10.      High beef prices and the destruction of independent cattle ranching (mattstoller.substack.com)\n",
      "        65 points by BobbyVsTheDevil 1 hour ago  | hide | 24&nbsp;comments              \n",
      "      \n",
      "                \n",
      "      11.      NASM Assembly Language Tutorials (asmtutor.com)\n",
      "        19 points by garren 1 hour ago  | hide | discuss              \n",
      "      \n",
      "                \n",
      "      12.      Ask HN: Why is there a chip shortage?\n",
      "        105 points by mohanmcgeek 6 hours ago  | hide | 113&nbsp;comments              \n",
      "      \n",
      "                \n",
      "      13.      Metaphor (YC S21) Is Hiring Self-Supervised Learning Researchers (ycombinator.com)\n",
      "        3 hours ago | hide      \n",
      "      \n",
      "                \n",
      "      14.      The Drenching Richness of Andrei Tarkovsky (newyorker.com)\n",
      "        74 points by drjohnson 4 hours ago  | hide | 46&nbsp;comments              \n",
      "      \n",
      "                \n",
      "      15.      Using a mild Twitter addiction to get things done (comer.io)\n",
      "        289 points by nkcmr 9 hours ago  | hide | 97&nbsp;comments              \n",
      "      \n",
      "                \n",
      "      16.      Show HN: Changedetection.io detect changes in websites and JSON feeds (github.com/dgtlmoon)\n",
      "        81 points by biggunz 5 hours ago  | hide | 21&nbsp;comments              \n",
      "      \n",
      "                \n",
      "      17.      In 1953 a telco executive predicts the rise of smartphones and video calls (kqed.org)\n",
      "        61 points by giuliomagnifico 4 hours ago  | hide | 51&nbsp;comments              \n",
      "      \n",
      "                \n",
      "      18.      Poll: Which FAANG is the most likely to decline in the years ahead?\n",
      "        97 points by Victerius 1 hour ago  | hide | 212&nbsp;comments              \n",
      "      \n",
      "                \n",
      "      19.      Healthy soil is key to feeding the world (worldsensorium.com)\n",
      "        213 points by dnetesn 6 hours ago  | hide | 105&nbsp;comments              \n",
      "      \n",
      "                \n",
      "      20.      The World of Vintage Operating Systems (winworldpc.com)\n",
      "        77 points by Koshkin 5 hours ago  | hide | 41&nbsp;comments              \n",
      "      \n",
      "                \n",
      "      21.      The Matrix looks dramatically different on Hulu versus on HBO Max (echevarria.io)\n",
      "        119 points by ivanech 2 hours ago  | hide | 91&nbsp;comments              \n",
      "      \n",
      "                \n",
      "      22.      Ask HN: Who wants to be hired? (January 2022)\n",
      "        54 points by whoishiring 4 hours ago  | hide | 88&nbsp;comments              \n",
      "      \n",
      "                \n",
      "      23.      Choose-Your-Own-Adventure AI Dungeon Games (gwern.net)\n",
      "        57 points by eversowhatev 4 hours ago  | hide | 8&nbsp;comments              \n",
      "      \n",
      "                \n",
      "      24.      Mechanical Computing Systems Using Only Links and Rotary Joints (arxiv.org)\n",
      "        17 points by ColinWright 1 hour ago  | hide | 1&nbsp;comment              \n",
      "      \n",
      "                \n",
      "      25.      Book Review: The Future of Fusion Energy (kleppmann.com)\n",
      "        8 points by bschne 38 minutes ago  | hide | discuss              \n",
      "      \n",
      "                \n",
      "      26.      Speaking Freely: Why I resigned from the Canadian Broadcasting Corporation (tarahenley.substack.com)\n",
      "        283 points by steelstraw 2 hours ago  | hide | 250&nbsp;comments              \n",
      "      \n",
      "                \n",
      "      27.      GnuPG is now financially self-sustaining (lwn.net)\n",
      "        109 points by bonzini 2 hours ago  | hide | 11&nbsp;comments              \n",
      "      \n",
      "                \n",
      "      28.      Show HN: Clone your voice and speak a foreign language (coqui.ai)\n",
      "        7 points by _josh_meyer_ 25 minutes ago  | hide | discuss              \n",
      "      \n",
      "                \n",
      "      29.      RPi Pico: 100BASE-T with cheap ethernet PHY module (github.com/maximeborges)\n",
      "        50 points by mborges 4 hours ago  | hide | 14&nbsp;comments              \n",
      "      \n",
      "                \n",
      "      30.      Terraform Scripting Concepts (serdigital64.github.io)\n",
      "        22 points by serdigital64 2 hours ago  | hide | 18&nbsp;comments              \n",
      "      \n",
      "            \n",
      "      More    \n",
      "  \n",
      "\n",
      "Guidelines\n",
      "        | FAQ\n",
      "        | Lists\n",
      "        | API\n",
      "        | Security\n",
      "        | Legal\n",
      "        | Apply to YC\n",
      "        | ContactSearch:\n",
      "          \n",
      "            \n",
      "      \n",
      "\n"
     ]
    }
   ],
   "source": [
    "import re\n",
    "\n",
    "# Remove HTML tags using RegEx\n",
    "pattern = re.compile(r'<.*?>')  # tags look like <...>\n",
    "print(pattern.sub('', r.text))  # replace them with blank"
   ]
  },
  {
   "cell_type": "code",
   "execution_count": 6,
   "metadata": {},
   "outputs": [
    {
     "name": "stdout",
     "output_type": "stream",
     "text": [
      "\n",
      "        \n",
      "          \n",
      "        Hacker News\n",
      "        \n",
      "                  Hacker News\n",
      "              new | past | comments | ask | show | jobs | submit            \n",
      "                              login\n",
      "                          \n",
      "              \n",
      "\n",
      "              \n",
      "      1.      Dura is a background process that watches your Git repositories (github.com/tkellogg)\n",
      "        175 points by todsacerdoti 2 hours ago  | hide | 81 comments              \n",
      "      \n",
      "                \n",
      "      2.      Search engines and SEO spam (twitter.com/paulg)\n",
      "        366 points by iamjbn 4 hours ago  | hide | 348 comments              \n",
      "      \n",
      "                \n",
      "      3.      C Runtime Overhead (2015) (ryanhileman.info)\n",
      "        81 points by Zababa 3 hours ago  | hide | 11 comments              \n",
      "      \n",
      "                \n",
      "      4.      Ask HN: Who is hiring? (January 2022)\n",
      "        199 points by whoishiring 4 hours ago  | hide | 318 comments              \n",
      "      \n",
      "                \n",
      "      5.      Hacking a VW Golf Power Steering ECU (willemmelching.nl)\n",
      "        242 points by ingve 6 hours ago  | hide | 103 comments              \n",
      "      \n",
      "                \n",
      "      6.      Compiling a Go program into a native binary for Nintendo Switch (ebiten.org)\n",
      "        219 points by hajimehoshi 6 hours ago  | hide | 9 comments              \n",
      "      \n",
      "                \n",
      "      7.      Tips for making writing more fun (davnicwil.com)\n",
      "        10 points by davnicwil 31 minutes ago  | hide | 3 comments              \n",
      "      \n",
      "                \n",
      "      8.      Surviving the desert by building a motorcycle from a broken car? (2017) (historygarage.com)\n",
      "        62 points by kenneth 4 hours ago  | hide | 31 comments              \n",
      "      \n",
      "                \n",
      "      9.      When WikiLeaks bumped into the CIA: Operation Kudo exposed [video] (ccc.de)\n",
      "        68 points by HelenePhisher 3 hours ago  | hide | 8 comments              \n",
      "      \n",
      "                \n",
      "      10.      High beef prices and the destruction of independent cattle ranching (mattstoller.substack.com)\n",
      "        65 points by BobbyVsTheDevil 1 hour ago  | hide | 24 comments              \n",
      "      \n",
      "                \n",
      "      11.      NASM Assembly Language Tutorials (asmtutor.com)\n",
      "        19 points by garren 1 hour ago  | hide | discuss              \n",
      "      \n",
      "                \n",
      "      12.      Ask HN: Why is there a chip shortage?\n",
      "        105 points by mohanmcgeek 6 hours ago  | hide | 113 comments              \n",
      "      \n",
      "                \n",
      "      13.      Metaphor (YC S21) Is Hiring Self-Supervised Learning Researchers (ycombinator.com)\n",
      "        3 hours ago | hide      \n",
      "      \n",
      "                \n",
      "      14.      The Drenching Richness of Andrei Tarkovsky (newyorker.com)\n",
      "        74 points by drjohnson 4 hours ago  | hide | 46 comments              \n",
      "      \n",
      "                \n",
      "      15.      Using a mild Twitter addiction to get things done (comer.io)\n",
      "        289 points by nkcmr 9 hours ago  | hide | 97 comments              \n",
      "      \n",
      "                \n",
      "      16.      Show HN: Changedetection.io detect changes in websites and JSON feeds (github.com/dgtlmoon)\n",
      "        81 points by biggunz 5 hours ago  | hide | 21 comments              \n",
      "      \n",
      "                \n",
      "      17.      In 1953 a telco executive predicts the rise of smartphones and video calls (kqed.org)\n",
      "        61 points by giuliomagnifico 4 hours ago  | hide | 51 comments              \n",
      "      \n",
      "                \n",
      "      18.      Poll: Which FAANG is the most likely to decline in the years ahead?\n",
      "        97 points by Victerius 1 hour ago  | hide | 212 comments              \n",
      "      \n",
      "                \n",
      "      19.      Healthy soil is key to feeding the world (worldsensorium.com)\n",
      "        213 points by dnetesn 6 hours ago  | hide | 105 comments              \n",
      "      \n",
      "                \n",
      "      20.      The World of Vintage Operating Systems (winworldpc.com)\n",
      "        77 points by Koshkin 5 hours ago  | hide | 41 comments              \n",
      "      \n",
      "                \n",
      "      21.      The Matrix looks dramatically different on Hulu versus on HBO Max (echevarria.io)\n",
      "        119 points by ivanech 2 hours ago  | hide | 91 comments              \n",
      "      \n",
      "                \n",
      "      22.      Ask HN: Who wants to be hired? (January 2022)\n",
      "        54 points by whoishiring 4 hours ago  | hide | 88 comments              \n",
      "      \n",
      "                \n",
      "      23.      Choose-Your-Own-Adventure AI Dungeon Games (gwern.net)\n",
      "        57 points by eversowhatev 4 hours ago  | hide | 8 comments              \n",
      "      \n",
      "                \n",
      "      24.      Mechanical Computing Systems Using Only Links and Rotary Joints (arxiv.org)\n",
      "        17 points by ColinWright 1 hour ago  | hide | 1 comment              \n",
      "      \n",
      "                \n",
      "      25.      Book Review: The Future of Fusion Energy (kleppmann.com)\n",
      "        8 points by bschne 38 minutes ago  | hide | discuss              \n",
      "      \n",
      "                \n",
      "      26.      Speaking Freely: Why I resigned from the Canadian Broadcasting Corporation (tarahenley.substack.com)\n",
      "        283 points by steelstraw 2 hours ago  | hide | 250 comments              \n",
      "      \n",
      "                \n",
      "      27.      GnuPG is now financially self-sustaining (lwn.net)\n",
      "        109 points by bonzini 2 hours ago  | hide | 11 comments              \n",
      "      \n",
      "                \n",
      "      28.      Show HN: Clone your voice and speak a foreign language (coqui.ai)\n",
      "        7 points by _josh_meyer_ 25 minutes ago  | hide | discuss              \n",
      "      \n",
      "                \n",
      "      29.      RPi Pico: 100BASE-T with cheap ethernet PHY module (github.com/maximeborges)\n",
      "        50 points by mborges 4 hours ago  | hide | 14 comments              \n",
      "      \n",
      "                \n",
      "      30.      Terraform Scripting Concepts (serdigital64.github.io)\n",
      "        22 points by serdigital64 2 hours ago  | hide | 18 comments              \n",
      "      \n",
      "            \n",
      "      More    \n",
      "  \n",
      "\n",
      "Guidelines\n",
      "        | FAQ\n",
      "        | Lists\n",
      "        | API\n",
      "        | Security\n",
      "        | Legal\n",
      "        | Apply to YC\n",
      "        | ContactSearch:\n",
      "          \n",
      "            \n",
      "      \n",
      "\n"
     ]
    }
   ],
   "source": [
    "from bs4 import BeautifulSoup\n",
    "\n",
    "# Remove HTML tags using Beautiful Soup library\n",
    "soup = BeautifulSoup(r.text, \"html5lib\")\n",
    "print(soup.get_text())"
   ]
  },
  {
   "cell_type": "code",
   "execution_count": 7,
   "metadata": {
    "scrolled": true
   },
   "outputs": [
    {
     "data": {
      "text/plain": [
       "<tr class=\"athing\" id=\"29784238\">\n",
       "      <td align=\"right\" class=\"title\" valign=\"top\"><span class=\"rank\">1.</span></td>      <td class=\"votelinks\" valign=\"top\"><center><a href=\"vote?id=29784238&amp;how=up&amp;goto=news\" id=\"up_29784238\"><div class=\"votearrow\" title=\"upvote\"></div></a></center></td><td class=\"title\"><a class=\"titlelink\" href=\"https://github.com/tkellogg/dura\">Dura is a background process that watches your Git repositories</a><span class=\"sitebit comhead\"> (<a href=\"from?site=github.com/tkellogg\"><span class=\"sitestr\">github.com/tkellogg</span></a>)</span></td></tr>"
      ]
     },
     "execution_count": 7,
     "metadata": {},
     "output_type": "execute_result"
    }
   ],
   "source": [
    "# Find all articles\n",
    "summaries = soup.find_all(\"tr\", class_=\"athing\")\n",
    "summaries[0]"
   ]
  },
  {
   "cell_type": "code",
   "execution_count": 8,
   "metadata": {},
   "outputs": [
    {
     "data": {
      "text/plain": [
       "'Dura is a background process that watches your Git repositories'"
      ]
     },
     "execution_count": 8,
     "metadata": {},
     "output_type": "execute_result"
    }
   ],
   "source": [
    "# Extract title\n",
    "summaries[0].find(\"a\", class_=\"titlelink\").get_text().strip()"
   ]
  },
  {
   "cell_type": "code",
   "execution_count": 9,
   "metadata": {},
   "outputs": [
    {
     "name": "stdout",
     "output_type": "stream",
     "text": [
      "30 Article summaries found. Sample:\n",
      "Dura is a background process that watches your Git repositories\n"
     ]
    }
   ],
   "source": [
    "# Find all articles, extract titles\n",
    "articles = []\n",
    "summaries = soup.find_all(\"tr\", class_=\"athing\")\n",
    "for summary in summaries:\n",
    "    title = summary.find(\"a\", class_=\"titlelink\").get_text().strip()\n",
    "    articles.append((title))\n",
    "\n",
    "print(len(articles), \"Article summaries found. Sample:\")\n",
    "print(articles[0])"
   ]
  },
  {
   "cell_type": "markdown",
   "metadata": {
    "collapsed": true
   },
   "source": [
    "## Normalization"
   ]
  },
  {
   "cell_type": "markdown",
   "metadata": {},
   "source": [
    "### Case Normalization"
   ]
  },
  {
   "cell_type": "code",
   "execution_count": 10,
   "metadata": {},
   "outputs": [
    {
     "name": "stdout",
     "output_type": "stream",
     "text": [
      "The first time you see The Second Renaissance it may look boring. Look at it at least twice and definitely watch part 2. It will change your view of the matrix. Are the human people the ones who started the war ? Is AI a bad thing ?\n"
     ]
    }
   ],
   "source": [
    "# Sample text\n",
    "text = \"The first time you see The Second Renaissance it may look boring. Look at it at least twice and definitely watch part 2. It will change your view of the matrix. Are the human people the ones who started the war ? Is AI a bad thing ?\"\n",
    "print(text)"
   ]
  },
  {
   "cell_type": "code",
   "execution_count": 11,
   "metadata": {},
   "outputs": [
    {
     "name": "stdout",
     "output_type": "stream",
     "text": [
      "the first time you see the second renaissance it may look boring. look at it at least twice and definitely watch part 2. it will change your view of the matrix. are the human people the ones who started the war ? is ai a bad thing ?\n"
     ]
    }
   ],
   "source": [
    "# Convert to lowercase\n",
    "text = text.lower() \n",
    "print(text)"
   ]
  },
  {
   "cell_type": "markdown",
   "metadata": {},
   "source": [
    "### Punctuation Removal"
   ]
  },
  {
   "cell_type": "code",
   "execution_count": 12,
   "metadata": {},
   "outputs": [
    {
     "name": "stdout",
     "output_type": "stream",
     "text": [
      "the first time you see the second renaissance it may look boring  look at it at least twice and definitely watch part 2  it will change your view of the matrix  are the human people the ones who started the war   is ai a bad thing  \n"
     ]
    }
   ],
   "source": [
    "import re\n",
    "\n",
    "# Remove punctuation characters\n",
    "text = re.sub(r\"[^a-zA-Z0-9]\", \" \", text) \n",
    "print(text)"
   ]
  },
  {
   "cell_type": "markdown",
   "metadata": {},
   "source": [
    "## Tokenization"
   ]
  },
  {
   "cell_type": "code",
   "execution_count": 13,
   "metadata": {},
   "outputs": [
    {
     "name": "stdout",
     "output_type": "stream",
     "text": [
      "['the', 'first', 'time', 'you', 'see', 'the', 'second', 'renaissance', 'it', 'may', 'look', 'boring', 'look', 'at', 'it', 'at', 'least', 'twice', 'and', 'definitely', 'watch', 'part', '2', 'it', 'will', 'change', 'your', 'view', 'of', 'the', 'matrix', 'are', 'the', 'human', 'people', 'the', 'ones', 'who', 'started', 'the', 'war', 'is', 'ai', 'a', 'bad', 'thing']\n"
     ]
    }
   ],
   "source": [
    "# Split text into tokens (words)\n",
    "words = text.split()\n",
    "print(words)"
   ]
  },
  {
   "cell_type": "markdown",
   "metadata": {},
   "source": [
    "### NLTK: Natural Language ToolKit"
   ]
  },
  {
   "cell_type": "code",
   "execution_count": 14,
   "metadata": {},
   "outputs": [],
   "source": [
    "import os\n",
    "import nltk\n",
    "nltk.data.path.append(os.path.join(os.getcwd(), \"nltk_data\"))"
   ]
  },
  {
   "cell_type": "code",
   "execution_count": 15,
   "metadata": {},
   "outputs": [
    {
     "name": "stdout",
     "output_type": "stream",
     "text": [
      "Dr. Smith graduated from the University of Washington. He later started an analytics firm called Lux, which catered to enterprise customers.\n"
     ]
    }
   ],
   "source": [
    "# Another sample text\n",
    "text = \"Dr. Smith graduated from the University of Washington. He later started an analytics firm called Lux, which catered to enterprise customers.\"\n",
    "print(text)"
   ]
  },
  {
   "cell_type": "code",
   "execution_count": 16,
   "metadata": {},
   "outputs": [
    {
     "name": "stdout",
     "output_type": "stream",
     "text": [
      "['Dr.', 'Smith', 'graduated', 'from', 'the', 'University', 'of', 'Washington', '.', 'He', 'later', 'started', 'an', 'analytics', 'firm', 'called', 'Lux', ',', 'which', 'catered', 'to', 'enterprise', 'customers', '.']\n"
     ]
    }
   ],
   "source": [
    "from nltk.tokenize import word_tokenize\n",
    "\n",
    "# Split text into words using NLTK\n",
    "words = word_tokenize(text)\n",
    "print(words)"
   ]
  },
  {
   "cell_type": "code",
   "execution_count": 17,
   "metadata": {},
   "outputs": [
    {
     "name": "stdout",
     "output_type": "stream",
     "text": [
      "['Dr. Smith graduated from the University of Washington.', 'He later started an analytics firm called Lux, which catered to enterprise customers.']\n"
     ]
    }
   ],
   "source": [
    "from nltk.tokenize import sent_tokenize\n",
    "\n",
    "# Split text into sentences\n",
    "sentences = sent_tokenize(text)\n",
    "print(sentences)"
   ]
  },
  {
   "cell_type": "code",
   "execution_count": 18,
   "metadata": {},
   "outputs": [
    {
     "name": "stdout",
     "output_type": "stream",
     "text": [
      "['i', 'me', 'my', 'myself', 'we', 'our', 'ours', 'ourselves', 'you', \"you're\", \"you've\", \"you'll\", \"you'd\", 'your', 'yours', 'yourself', 'yourselves', 'he', 'him', 'his', 'himself', 'she', \"she's\", 'her', 'hers', 'herself', 'it', \"it's\", 'its', 'itself', 'they', 'them', 'their', 'theirs', 'themselves', 'what', 'which', 'who', 'whom', 'this', 'that', \"that'll\", 'these', 'those', 'am', 'is', 'are', 'was', 'were', 'be', 'been', 'being', 'have', 'has', 'had', 'having', 'do', 'does', 'did', 'doing', 'a', 'an', 'the', 'and', 'but', 'if', 'or', 'because', 'as', 'until', 'while', 'of', 'at', 'by', 'for', 'with', 'about', 'against', 'between', 'into', 'through', 'during', 'before', 'after', 'above', 'below', 'to', 'from', 'up', 'down', 'in', 'out', 'on', 'off', 'over', 'under', 'again', 'further', 'then', 'once', 'here', 'there', 'when', 'where', 'why', 'how', 'all', 'any', 'both', 'each', 'few', 'more', 'most', 'other', 'some', 'such', 'no', 'nor', 'not', 'only', 'own', 'same', 'so', 'than', 'too', 'very', 's', 't', 'can', 'will', 'just', 'don', \"don't\", 'should', \"should've\", 'now', 'd', 'll', 'm', 'o', 're', 've', 'y', 'ain', 'aren', \"aren't\", 'couldn', \"couldn't\", 'didn', \"didn't\", 'doesn', \"doesn't\", 'hadn', \"hadn't\", 'hasn', \"hasn't\", 'haven', \"haven't\", 'isn', \"isn't\", 'ma', 'mightn', \"mightn't\", 'mustn', \"mustn't\", 'needn', \"needn't\", 'shan', \"shan't\", 'shouldn', \"shouldn't\", 'wasn', \"wasn't\", 'weren', \"weren't\", 'won', \"won't\", 'wouldn', \"wouldn't\"]\n"
     ]
    }
   ],
   "source": [
    "# List stop words\n",
    "from nltk.corpus import stopwords\n",
    "print(stopwords.words(\"english\"))"
   ]
  },
  {
   "cell_type": "code",
   "execution_count": 19,
   "metadata": {},
   "outputs": [
    {
     "name": "stdout",
     "output_type": "stream",
     "text": [
      "['the', 'first', 'time', 'you', 'see', 'the', 'second', 'renaissance', 'it', 'may', 'look', 'boring', 'look', 'at', 'it', 'at', 'least', 'twice', 'and', 'definitely', 'watch', 'part', '2', 'it', 'will', 'change', 'your', 'view', 'of', 'the', 'matrix', 'are', 'the', 'human', 'people', 'the', 'ones', 'who', 'started', 'the', 'war', 'is', 'ai', 'a', 'bad', 'thing']\n"
     ]
    }
   ],
   "source": [
    "# Reset text\n",
    "text = \"The first time you see The Second Renaissance it may look boring. Look at it at least twice and definitely watch part 2. It will change your view of the matrix. Are the human people the ones who started the war ? Is AI a bad thing ?\"\n",
    "\n",
    "# Normalize it\n",
    "text = re.sub(r\"[^a-zA-Z0-9]\", \" \", text.lower())\n",
    "\n",
    "# Tokenize it\n",
    "words = text.split()\n",
    "print(words)"
   ]
  },
  {
   "cell_type": "code",
   "execution_count": 20,
   "metadata": {},
   "outputs": [
    {
     "name": "stdout",
     "output_type": "stream",
     "text": [
      "['first', 'time', 'see', 'second', 'renaissance', 'may', 'look', 'boring', 'look', 'least', 'twice', 'definitely', 'watch', 'part', '2', 'change', 'view', 'matrix', 'human', 'people', 'ones', 'started', 'war', 'ai', 'bad', 'thing']\n"
     ]
    }
   ],
   "source": [
    "# Remove stop words\n",
    "words = [w for w in words if w not in stopwords.words(\"english\")]\n",
    "print(words)"
   ]
  },
  {
   "cell_type": "markdown",
   "metadata": {},
   "source": [
    "## Part of Speech Tagging/ Sentence Parsing"
   ]
  },
  {
   "cell_type": "code",
   "execution_count": 21,
   "metadata": {},
   "outputs": [
    {
     "name": "stdout",
     "output_type": "stream",
     "text": [
      "(S\n",
      "  (NP I)\n",
      "  (VP\n",
      "    (VP (V shot) (NP (Det an) (N elephant)))\n",
      "    (PP (P in) (NP (Det my) (N pajamas)))))\n",
      "(S\n",
      "  (NP I)\n",
      "  (VP\n",
      "    (V shot)\n",
      "    (NP (Det an) (N elephant) (PP (P in) (NP (Det my) (N pajamas))))))\n"
     ]
    }
   ],
   "source": [
    "import nltk\n",
    "\n",
    "# Define a custom grammar\n",
    "my_grammar = nltk.CFG.fromstring(\"\"\"\n",
    "S -> NP VP\n",
    "PP -> P NP\n",
    "NP -> Det N | Det N PP | 'I'\n",
    "VP -> V NP | VP PP\n",
    "Det -> 'an' | 'my'\n",
    "N -> 'elephant' | 'pajamas'\n",
    "V -> 'shot'\n",
    "P -> 'in'\n",
    "\"\"\")\n",
    "parser = nltk.ChartParser(my_grammar)\n",
    "\n",
    "# Parse a sentence\n",
    "sentence = word_tokenize(\"I shot an elephant in my pajamas\")\n",
    "for tree in parser.parse(sentence):\n",
    "    print(tree)"
   ]
  },
  {
   "cell_type": "markdown",
   "metadata": {},
   "source": [
    "## Stemming & Lemmatization\n",
    "\n",
    "### Stemming"
   ]
  },
  {
   "cell_type": "code",
   "execution_count": 22,
   "metadata": {},
   "outputs": [
    {
     "name": "stdout",
     "output_type": "stream",
     "text": [
      "['first', 'time', 'see', 'second', 'renaiss', 'may', 'look', 'bore', 'look', 'least', 'twice', 'definit', 'watch', 'part', '2', 'chang', 'view', 'matrix', 'human', 'peopl', 'one', 'start', 'war', 'ai', 'bad', 'thing']\n"
     ]
    }
   ],
   "source": [
    "from nltk.stem.porter import PorterStemmer\n",
    "\n",
    "# Reduce words to their stems\n",
    "stemmed = [PorterStemmer().stem(w) for w in words]\n",
    "print(stemmed)"
   ]
  },
  {
   "cell_type": "markdown",
   "metadata": {},
   "source": [
    "### Lemmatization"
   ]
  },
  {
   "cell_type": "code",
   "execution_count": 23,
   "metadata": {},
   "outputs": [
    {
     "name": "stdout",
     "output_type": "stream",
     "text": [
      "['first', 'time', 'see', 'second', 'renaissance', 'may', 'look', 'boring', 'look', 'least', 'twice', 'definitely', 'watch', 'part', '2', 'change', 'view', 'matrix', 'human', 'people', 'one', 'started', 'war', 'ai', 'bad', 'thing']\n"
     ]
    }
   ],
   "source": [
    "from nltk.stem.wordnet import WordNetLemmatizer\n",
    "\n",
    "# Reduce words to their root form\n",
    "lemmed = [WordNetLemmatizer().lemmatize(w) for w in words]\n",
    "print(lemmed)"
   ]
  },
  {
   "cell_type": "code",
   "execution_count": 24,
   "metadata": {},
   "outputs": [
    {
     "name": "stdout",
     "output_type": "stream",
     "text": [
      "['first', 'time', 'see', 'second', 'renaissance', 'may', 'look', 'bore', 'look', 'least', 'twice', 'definitely', 'watch', 'part', '2', 'change', 'view', 'matrix', 'human', 'people', 'one', 'start', 'war', 'ai', 'bad', 'thing']\n"
     ]
    }
   ],
   "source": [
    "# Lemmatize verbs by specifying pos\n",
    "lemmed = [WordNetLemmatizer().lemmatize(w, pos='v') for w in lemmed]\n",
    "print(lemmed)"
   ]
  },
  {
   "cell_type": "code",
   "execution_count": null,
   "metadata": {},
   "outputs": [],
   "source": []
  }
 ],
 "metadata": {
  "kernelspec": {
   "display_name": "Python 3",
   "language": "python",
   "name": "python3"
  },
  "language_info": {
   "codemirror_mode": {
    "name": "ipython",
    "version": 3
   },
   "file_extension": ".py",
   "mimetype": "text/x-python",
   "name": "python",
   "nbconvert_exporter": "python",
   "pygments_lexer": "ipython3",
   "version": "3.6.3"
  }
 },
 "nbformat": 4,
 "nbformat_minor": 2
}
