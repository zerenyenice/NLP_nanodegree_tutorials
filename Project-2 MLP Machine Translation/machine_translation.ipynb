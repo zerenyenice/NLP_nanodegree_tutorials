{
 "cells": [
  {
   "cell_type": "markdown",
   "metadata": {
    "collapsed": true
   },
   "source": [
    "# Artificial Intelligence Nanodegree\n",
    "## Machine Translation Project\n",
    "In this notebook, sections that end with **'(IMPLEMENTATION)'** in the header indicate that the following blocks of code will require additional functionality which you must provide. Please be sure to read the instructions carefully!\n",
    "\n",
    "## Introduction\n",
    "In this notebook, you will build a deep neural network that functions as part of an end-to-end machine translation pipeline. Your completed pipeline will accept English text as input and return the French translation.\n",
    "\n",
    "- **Preprocess** - You'll convert text to sequence of integers.\n",
    "- **Models** Create models which accepts a sequence of integers as input and returns a probability distribution over possible translations. After learning about the basic types of neural networks that are often used for machine translation, you will engage in your own investigations, to design your own model!\n",
    "- **Prediction** Run the model on English text."
   ]
  },
  {
   "cell_type": "code",
   "execution_count": 1,
   "metadata": {},
   "outputs": [],
   "source": [
    "%load_ext autoreload\n",
    "%aimport helper, tests\n",
    "%autoreload 1"
   ]
  },
  {
   "cell_type": "code",
   "execution_count": 2,
   "metadata": {},
   "outputs": [
    {
     "name": "stderr",
     "output_type": "stream",
     "text": [
      "Using TensorFlow backend.\n"
     ]
    }
   ],
   "source": [
    "import collections\n",
    "\n",
    "import helper\n",
    "import numpy as np\n",
    "import project_tests as tests\n",
    "\n",
    "from keras.preprocessing.text import Tokenizer\n",
    "from keras.preprocessing.sequence import pad_sequences\n",
    "from keras.models import Model\n",
    "from keras.layers import GRU, Input, Dense, TimeDistributed, Activation, RepeatVector, Bidirectional\n",
    "from keras.layers.embeddings import Embedding\n",
    "from keras.optimizers import Adam\n",
    "from keras.losses import sparse_categorical_crossentropy"
   ]
  },
  {
   "cell_type": "markdown",
   "metadata": {},
   "source": [
    "### Verify access to the GPU\n",
    "The following test applies only if you expect to be using a GPU, e.g., while running in a Udacity Workspace or using an AWS instance with GPU support. Run the next cell, and verify that the device_type is \"GPU\".\n",
    "- If the device is not GPU & you are running from a Udacity Workspace, then save your workspace with the icon at the top, then click \"enable\" at the bottom of the workspace.\n",
    "- If the device is not GPU & you are running from an AWS instance, then refer to the cloud computing instructions in the classroom to verify your setup steps."
   ]
  },
  {
   "cell_type": "code",
   "execution_count": 3,
   "metadata": {},
   "outputs": [
    {
     "name": "stdout",
     "output_type": "stream",
     "text": [
      "[name: \"/cpu:0\"\n",
      "device_type: \"CPU\"\n",
      "memory_limit: 268435456\n",
      "locality {\n",
      "}\n",
      "incarnation: 1230191241663853393\n",
      ", name: \"/gpu:0\"\n",
      "device_type: \"GPU\"\n",
      "memory_limit: 357433344\n",
      "locality {\n",
      "  bus_id: 1\n",
      "}\n",
      "incarnation: 14947716748890247054\n",
      "physical_device_desc: \"device: 0, name: Tesla K80, pci bus id: 0000:00:04.0\"\n",
      "]\n"
     ]
    }
   ],
   "source": [
    "from tensorflow.python.client import device_lib\n",
    "print(device_lib.list_local_devices())"
   ]
  },
  {
   "cell_type": "markdown",
   "metadata": {},
   "source": [
    "## Dataset\n",
    "We begin by investigating the dataset that will be used to train and evaluate your pipeline.  The most common datasets used for machine translation are from [WMT](http://www.statmt.org/).  However, that will take a long time to train a neural network on.  We'll be using a dataset we created for this project that contains a small vocabulary.  You'll be able to train your model in a reasonable time with this dataset.\n",
    "### Load Data\n",
    "The data is located in `data/small_vocab_en` and `data/small_vocab_fr`. The `small_vocab_en` file contains English sentences with their French translations in the `small_vocab_fr` file. Load the English and French data from these files from running the cell below."
   ]
  },
  {
   "cell_type": "code",
   "execution_count": 4,
   "metadata": {},
   "outputs": [
    {
     "name": "stdout",
     "output_type": "stream",
     "text": [
      "Dataset Loaded\n"
     ]
    }
   ],
   "source": [
    "# Load English data\n",
    "english_sentences = helper.load_data('data/small_vocab_en')\n",
    "# Load French data\n",
    "french_sentences = helper.load_data('data/small_vocab_fr')\n",
    "\n",
    "print('Dataset Loaded')"
   ]
  },
  {
   "cell_type": "markdown",
   "metadata": {},
   "source": [
    "### Files\n",
    "Each line in `small_vocab_en` contains an English sentence with the respective translation in each line of `small_vocab_fr`.  View the first two lines from each file."
   ]
  },
  {
   "cell_type": "code",
   "execution_count": 5,
   "metadata": {},
   "outputs": [
    {
     "name": "stdout",
     "output_type": "stream",
     "text": [
      "small_vocab_en Line 1:  new jersey is sometimes quiet during autumn , and it is snowy in april .\n",
      "small_vocab_fr Line 1:  new jersey est parfois calme pendant l' automne , et il est neigeux en avril .\n",
      "small_vocab_en Line 2:  the united states is usually chilly during july , and it is usually freezing in november .\n",
      "small_vocab_fr Line 2:  les états-unis est généralement froid en juillet , et il gèle habituellement en novembre .\n"
     ]
    }
   ],
   "source": [
    "for sample_i in range(2):\n",
    "    print('small_vocab_en Line {}:  {}'.format(sample_i + 1, english_sentences[sample_i]))\n",
    "    print('small_vocab_fr Line {}:  {}'.format(sample_i + 1, french_sentences[sample_i]))"
   ]
  },
  {
   "cell_type": "markdown",
   "metadata": {},
   "source": [
    "From looking at the sentences, you can see they have been preprocessed already.  The puncuations have been delimited using spaces. All the text have been converted to lowercase.  This should save you some time, but the text requires more preprocessing.\n",
    "### Vocabulary\n",
    "The complexity of the problem is determined by the complexity of the vocabulary.  A more complex vocabulary is a more complex problem.  Let's look at the complexity of the dataset we'll be working with."
   ]
  },
  {
   "cell_type": "code",
   "execution_count": 6,
   "metadata": {},
   "outputs": [
    {
     "name": "stdout",
     "output_type": "stream",
     "text": [
      "1823250 English words.\n",
      "227 unique English words.\n",
      "10 Most common words in the English dataset:\n",
      "\"is\" \",\" \".\" \"in\" \"it\" \"during\" \"the\" \"but\" \"and\" \"sometimes\"\n",
      "\n",
      "1961295 French words.\n",
      "355 unique French words.\n",
      "10 Most common words in the French dataset:\n",
      "\"est\" \".\" \",\" \"en\" \"il\" \"les\" \"mais\" \"et\" \"la\" \"parfois\"\n"
     ]
    }
   ],
   "source": [
    "english_words_counter = collections.Counter([word for sentence in english_sentences for word in sentence.split()])\n",
    "french_words_counter = collections.Counter([word for sentence in french_sentences for word in sentence.split()])\n",
    "\n",
    "print('{} English words.'.format(len([word for sentence in english_sentences for word in sentence.split()])))\n",
    "print('{} unique English words.'.format(len(english_words_counter)))\n",
    "print('10 Most common words in the English dataset:')\n",
    "print('\"' + '\" \"'.join(list(zip(*english_words_counter.most_common(10)))[0]) + '\"')\n",
    "print()\n",
    "print('{} French words.'.format(len([word for sentence in french_sentences for word in sentence.split()])))\n",
    "print('{} unique French words.'.format(len(french_words_counter)))\n",
    "print('10 Most common words in the French dataset:')\n",
    "print('\"' + '\" \"'.join(list(zip(*french_words_counter.most_common(10)))[0]) + '\"')"
   ]
  },
  {
   "cell_type": "code",
   "execution_count": null,
   "metadata": {},
   "outputs": [],
   "source": []
  },
  {
   "cell_type": "markdown",
   "metadata": {},
   "source": [
    "For comparison, _Alice's Adventures in Wonderland_ contains 2,766 unique words of a total of 15,500 words.\n",
    "## Preprocess\n",
    "For this project, you won't use text data as input to your model. Instead, you'll convert the text into sequences of integers using the following preprocess methods:\n",
    "1. Tokenize the words into ids\n",
    "2. Add padding to make all the sequences the same length.\n",
    "\n",
    "Time to start preprocessing the data...\n",
    "### Tokenize (IMPLEMENTATION)\n",
    "For a neural network to predict on text data, it first has to be turned into data it can understand. Text data like \"dog\" is a sequence of ASCII character encodings.  Since a neural network is a series of multiplication and addition operations, the input data needs to be number(s).\n",
    "\n",
    "We can turn each character into a number or each word into a number.  These are called character and word ids, respectively.  Character ids are used for character level models that generate text predictions for each character.  A word level model uses word ids that generate text predictions for each word.  Word level models tend to learn better, since they are lower in complexity, so we'll use those.\n",
    "\n",
    "Turn each sentence into a sequence of words ids using Keras's [`Tokenizer`](https://keras.io/preprocessing/text/#tokenizer) function. Use this function to tokenize `english_sentences` and `french_sentences` in the cell below.\n",
    "\n",
    "Running the cell will run `tokenize` on sample data and show output for debugging."
   ]
  },
  {
   "cell_type": "code",
   "execution_count": 7,
   "metadata": {},
   "outputs": [
    {
     "name": "stdout",
     "output_type": "stream",
     "text": [
      "{'the': 1, 'quick': 2, 'a': 3, 'brown': 4, 'fox': 5, 'jumps': 6, 'over': 7, 'lazy': 8, 'dog': 9, 'by': 10, 'jove': 11, 'my': 12, 'study': 13, 'of': 14, 'lexicography': 15, 'won': 16, 'prize': 17, 'this': 18, 'is': 19, 'short': 20, 'sentence': 21}\n",
      "\n",
      "Sequence 1 in x\n",
      "  Input:  The quick brown fox jumps over the lazy dog .\n",
      "  Output: [1, 2, 4, 5, 6, 7, 1, 8, 9]\n",
      "Sequence 2 in x\n",
      "  Input:  By Jove , my quick study of lexicography won a prize .\n",
      "  Output: [10, 11, 12, 2, 13, 14, 15, 16, 3, 17]\n",
      "Sequence 3 in x\n",
      "  Input:  This is a short sentence .\n",
      "  Output: [18, 19, 3, 20, 21]\n"
     ]
    }
   ],
   "source": [
    "\n",
    "def tokenize(x):\n",
    "    \"\"\"\n",
    "    Tokenize x\n",
    "    :param x: List of sentences/strings to be tokenized\n",
    "    :return: Tuple of (tokenized x data, tokenizer used to tokenize x)\n",
    "    \"\"\"\n",
    "    # TODO: Implement\n",
    "    x_tk = Tokenizer()\n",
    "    x_tk.fit_on_texts(x)\n",
    "    \n",
    "    return x_tk.texts_to_sequences(x), x_tk\n",
    "tests.test_tokenize(tokenize)\n",
    "\n",
    "# Tokenize Example output\n",
    "text_sentences = [\n",
    "    'The quick brown fox jumps over the lazy dog .',\n",
    "    'By Jove , my quick study of lexicography won a prize .',\n",
    "    'This is a short sentence .']\n",
    "text_tokenized, text_tokenizer = tokenize(text_sentences)\n",
    "print(text_tokenizer.word_index)\n",
    "print()\n",
    "for sample_i, (sent, token_sent) in enumerate(zip(text_sentences, text_tokenized)):\n",
    "    print('Sequence {} in x'.format(sample_i + 1))\n",
    "    print('  Input:  {}'.format(sent))\n",
    "    print('  Output: {}'.format(token_sent))"
   ]
  },
  {
   "cell_type": "markdown",
   "metadata": {},
   "source": [
    "### Padding (IMPLEMENTATION)\n",
    "When batching the sequence of word ids together, each sequence needs to be the same length.  Since sentences are dynamic in length, we can add padding to the end of the sequences to make them the same length.\n",
    "\n",
    "Make sure all the English sequences have the same length and all the French sequences have the same length by adding padding to the **end** of each sequence using Keras's [`pad_sequences`](https://keras.io/preprocessing/sequence/#pad_sequences) function."
   ]
  },
  {
   "cell_type": "code",
   "execution_count": 8,
   "metadata": {},
   "outputs": [
    {
     "name": "stdout",
     "output_type": "stream",
     "text": [
      "Sequence 1 in x\n",
      "  Input:  [1 2 4 5 6 7 1 8 9]\n",
      "  Output: [1 2 4 5 6 7 1 8 9 0]\n",
      "Sequence 2 in x\n",
      "  Input:  [10 11 12  2 13 14 15 16  3 17]\n",
      "  Output: [10 11 12  2 13 14 15 16  3 17]\n",
      "Sequence 3 in x\n",
      "  Input:  [18 19  3 20 21]\n",
      "  Output: [18 19  3 20 21  0  0  0  0  0]\n"
     ]
    }
   ],
   "source": [
    "def pad(x, length=None):\n",
    "    \"\"\"\n",
    "    Pad x\n",
    "    :param x: List of sequences.\n",
    "    :param length: Length to pad the sequence to.  If None, use length of longest sequence in x.\n",
    "    :return: Padded numpy array of sequences\n",
    "    \"\"\"\n",
    "    # TODO: Implement\n",
    "    if length==None:\n",
    "        length = max([len(x_i) for x_i in x])\n",
    "    x = pad_sequences(x, maxlen=length, padding='post',truncating='post')\n",
    "    return x\n",
    "tests.test_pad(pad)\n",
    "\n",
    "# Pad Tokenized output\n",
    "test_pad = pad(text_tokenized)\n",
    "for sample_i, (token_sent, pad_sent) in enumerate(zip(text_tokenized, test_pad)):\n",
    "    print('Sequence {} in x'.format(sample_i + 1))\n",
    "    print('  Input:  {}'.format(np.array(token_sent)))\n",
    "    print('  Output: {}'.format(pad_sent))"
   ]
  },
  {
   "cell_type": "markdown",
   "metadata": {},
   "source": [
    "### Preprocess Pipeline\n",
    "Your focus for this project is to build neural network architecture, so we won't ask you to create a preprocess pipeline.  Instead, we've provided you with the implementation of the `preprocess` function."
   ]
  },
  {
   "cell_type": "code",
   "execution_count": 9,
   "metadata": {},
   "outputs": [
    {
     "name": "stdout",
     "output_type": "stream",
     "text": [
      "Data Preprocessed\n",
      "Max English sentence length: 15\n",
      "Max French sentence length: 21\n",
      "English vocabulary size: 199\n",
      "French vocabulary size: 344\n"
     ]
    }
   ],
   "source": [
    "def preprocess(x, y):\n",
    "    \"\"\"\n",
    "    Preprocess x and y\n",
    "    :param x: Feature List of sentences\n",
    "    :param y: Label List of sentences\n",
    "    :return: Tuple of (Preprocessed x, Preprocessed y, x tokenizer, y tokenizer)\n",
    "    \"\"\"\n",
    "    preprocess_x, x_tk = tokenize(x)\n",
    "    preprocess_y, y_tk = tokenize(y)\n",
    "\n",
    "    preprocess_x = pad(preprocess_x)\n",
    "    preprocess_y = pad(preprocess_y)\n",
    "\n",
    "    # Keras's sparse_categorical_crossentropy function requires the labels to be in 3 dimensions\n",
    "    preprocess_y = preprocess_y.reshape(*preprocess_y.shape, 1)\n",
    "\n",
    "    return preprocess_x, preprocess_y, x_tk, y_tk\n",
    "\n",
    "preproc_english_sentences, preproc_french_sentences, english_tokenizer, french_tokenizer =\\\n",
    "    preprocess(english_sentences, french_sentences)\n",
    "    \n",
    "max_english_sequence_length = preproc_english_sentences.shape[1]\n",
    "max_french_sequence_length = preproc_french_sentences.shape[1]\n",
    "english_vocab_size = len(english_tokenizer.word_index)\n",
    "french_vocab_size = len(french_tokenizer.word_index)\n",
    "\n",
    "print('Data Preprocessed')\n",
    "print(\"Max English sentence length:\", max_english_sequence_length)\n",
    "print(\"Max French sentence length:\", max_french_sequence_length)\n",
    "print(\"English vocabulary size:\", english_vocab_size)\n",
    "print(\"French vocabulary size:\", french_vocab_size)"
   ]
  },
  {
   "cell_type": "markdown",
   "metadata": {},
   "source": [
    "## Models\n",
    "In this section, you will experiment with various neural network architectures.\n",
    "You will begin by training four relatively simple architectures.\n",
    "- Model 1 is a simple RNN\n",
    "- Model 2 is a RNN with Embedding\n",
    "- Model 3 is a Bidirectional RNN\n",
    "- Model 4 is an Encoder-Decoder RNN\n",
    "\n",
    "After experimenting with the four simple architectures, you will construct a deeper architecture that is designed to outperform all four models.\n",
    "### Ids Back to Text\n",
    "The neural network will be translating the input to words ids, which isn't the final form we want.  We want the French translation.  The function `logits_to_text` will bridge the gab between the logits from the neural network to the French translation.  You'll be using this function to better understand the output of the neural network."
   ]
  },
  {
   "cell_type": "code",
   "execution_count": 10,
   "metadata": {},
   "outputs": [
    {
     "name": "stdout",
     "output_type": "stream",
     "text": [
      "`logits_to_text` function loaded.\n"
     ]
    }
   ],
   "source": [
    "def logits_to_text(logits, tokenizer):\n",
    "    \"\"\"\n",
    "    Turn logits from a neural network into text using the tokenizer\n",
    "    :param logits: Logits from a neural network\n",
    "    :param tokenizer: Keras Tokenizer fit on the labels\n",
    "    :return: String that represents the text of the logits\n",
    "    \"\"\"\n",
    "    index_to_words = {id: word for word, id in tokenizer.word_index.items()}\n",
    "    index_to_words[0] = '<PAD>'\n",
    "\n",
    "    return ' '.join([index_to_words[prediction] for prediction in np.argmax(logits, 1)])\n",
    "\n",
    "print('`logits_to_text` function loaded.')"
   ]
  },
  {
   "cell_type": "markdown",
   "metadata": {},
   "source": [
    "### Model 1: RNN (IMPLEMENTATION)\n",
    "![RNN](images/rnn.png)\n",
    "A basic RNN model is a good baseline for sequence data.  In this model, you'll build a RNN that translates English to French."
   ]
  },
  {
   "cell_type": "code",
   "execution_count": 59,
   "metadata": {},
   "outputs": [
    {
     "name": "stdout",
     "output_type": "stream",
     "text": [
      "int32\n",
      "int32\n",
      "Train on 110288 samples, validate on 27573 samples\n",
      "Epoch 1/10\n",
      "110288/110288 [==============================] - 13s 120us/step - loss: 2.5972 - sparse_categorical_accuracy: 0.4786 - val_loss: nan - val_sparse_categorical_accuracy: 0.5566\n",
      "Epoch 2/10\n",
      "110288/110288 [==============================] - 10s 92us/step - loss: 1.6669 - sparse_categorical_accuracy: 0.5831 - val_loss: nan - val_sparse_categorical_accuracy: 0.6003\n",
      "Epoch 3/10\n",
      "110288/110288 [==============================] - 10s 92us/step - loss: 1.4402 - sparse_categorical_accuracy: 0.6119 - val_loss: nan - val_sparse_categorical_accuracy: 0.6207\n",
      "Epoch 4/10\n",
      "110288/110288 [==============================] - 10s 91us/step - loss: 1.3174 - sparse_categorical_accuracy: 0.6311 - val_loss: nan - val_sparse_categorical_accuracy: 0.6431\n",
      "Epoch 5/10\n",
      "110288/110288 [==============================] - 10s 91us/step - loss: 1.2252 - sparse_categorical_accuracy: 0.6481 - val_loss: nan - val_sparse_categorical_accuracy: 0.6521\n",
      "Epoch 6/10\n",
      "110288/110288 [==============================] - 10s 92us/step - loss: 1.1584 - sparse_categorical_accuracy: 0.6598 - val_loss: nan - val_sparse_categorical_accuracy: 0.6631\n",
      "Epoch 7/10\n",
      "110288/110288 [==============================] - 10s 92us/step - loss: 1.1082 - sparse_categorical_accuracy: 0.6679 - val_loss: nan - val_sparse_categorical_accuracy: 0.6703\n",
      "Epoch 8/10\n",
      "110288/110288 [==============================] - 10s 92us/step - loss: 1.0683 - sparse_categorical_accuracy: 0.6733 - val_loss: nan - val_sparse_categorical_accuracy: 0.6778\n",
      "Epoch 9/10\n",
      "110288/110288 [==============================] - 10s 92us/step - loss: 1.0340 - sparse_categorical_accuracy: 0.6778 - val_loss: nan - val_sparse_categorical_accuracy: 0.6835\n",
      "Epoch 10/10\n",
      "110288/110288 [==============================] - 10s 92us/step - loss: 1.0056 - sparse_categorical_accuracy: 0.6816 - val_loss: nan - val_sparse_categorical_accuracy: 0.6806\n",
      "new jersey est parfois chaud en l' de il est il est en en <PAD> <PAD> <PAD> <PAD> <PAD> <PAD> <PAD>\n"
     ]
    }
   ],
   "source": [
    "def simple_model(input_shape, output_sequence_length, english_vocab_size, french_vocab_size):\n",
    "    \"\"\"\n",
    "    Build and train a basic RNN on x and y\n",
    "    :param input_shape: Tuple of input shape\n",
    "    :param output_sequence_length: Length of output sequence\n",
    "    :param english_vocab_size: Number of unique English words in the dataset\n",
    "    :param french_vocab_size: Number of unique French words in the dataset\n",
    "    :return: Keras model built, but not trained\n",
    "    \"\"\"\n",
    "    # TODO: Build the layers\n",
    "    \n",
    "    inp = Input(input_shape[1:3])\n",
    "    x = GRU(256,return_sequences=True,activation=\"tanh\")(inp)\n",
    "    #x = RepeatVector(output_sequence_length)(x)\n",
    "    #x = TimeDistributed(Dense(512, activation='relu'))(x)\n",
    "    x = TimeDistributed(Dense(french_vocab_size,activation='softmax'))(x)\n",
    "    \n",
    "    model = Model(inp,x)\n",
    "    model.compile(loss=sparse_categorical_crossentropy,\n",
    "                  optimizer=Adam(),\n",
    "                  metrics=['sparse_categorical_accuracy'])\n",
    "    return model\n",
    "tests.test_simple_model(simple_model)\n",
    "\n",
    "# Reshaping the input to work with a basic RNN\n",
    "tmp_x = pad(preproc_english_sentences, max_french_sequence_length)\n",
    "tmp_x = tmp_x.reshape((-1, preproc_french_sentences.shape[-2], 1))\n",
    "\n",
    "# Train the neural network\n",
    "simple_rnn_model = simple_model(\n",
    "    tmp_x.shape,\n",
    "    max_french_sequence_length,\n",
    "    english_vocab_size,\n",
    "    french_vocab_size)\n",
    "\n",
    "print(tmp_x.dtype)\n",
    "print(preproc_french_sentences.dtype)\n",
    "simple_rnn_model.fit(tmp_x.astype('float32'), preproc_french_sentences.astype('float32'), batch_size=1024, epochs=10, validation_split=0.20)\n",
    "\n",
    "# Print prediction(s)\n",
    "print(logits_to_text(simple_rnn_model.predict(tmp_x[:1])[0], french_tokenizer))"
   ]
  },
  {
   "cell_type": "code",
   "execution_count": 12,
   "metadata": {},
   "outputs": [
    {
     "data": {
      "text/plain": [
       "(137861, 21, 1)"
      ]
     },
     "execution_count": 12,
     "metadata": {},
     "output_type": "execute_result"
    }
   ],
   "source": [
    "preproc_french_sentences.shape"
   ]
  },
  {
   "cell_type": "markdown",
   "metadata": {},
   "source": [
    "### Model 2: Embedding (IMPLEMENTATION)\n",
    "![RNN](images/embedding.png)\n",
    "You've turned the words into ids, but there's a better representation of a word.  This is called word embeddings.  An embedding is a vector representation of the word that is close to similar words in n-dimensional space, where the n represents the size of the embedding vectors.\n",
    "\n",
    "In this model, you'll create a RNN model using embedding."
   ]
  },
  {
   "cell_type": "code",
   "execution_count": 60,
   "metadata": {},
   "outputs": [
    {
     "name": "stdout",
     "output_type": "stream",
     "text": [
      "(137861, 21)\n",
      "_________________________________________________________________\n",
      "Layer (type)                 Output Shape              Param #   \n",
      "=================================================================\n",
      "input_71 (InputLayer)        (None, 21)                0         \n",
      "_________________________________________________________________\n",
      "embedding_44 (Embedding)     (None, 21, 256)           50944     \n",
      "_________________________________________________________________\n",
      "gru_44 (GRU)                 (None, 21, 256)           393984    \n",
      "_________________________________________________________________\n",
      "time_distributed_46 (TimeDis (None, 21, 344)           88408     \n",
      "=================================================================\n",
      "Total params: 533,336\n",
      "Trainable params: 533,336\n",
      "Non-trainable params: 0\n",
      "_________________________________________________________________\n",
      "None\n",
      "Train on 110288 samples, validate on 27573 samples\n",
      "Epoch 1/10\n",
      "110288/110288 [==============================] - 16s 148us/step - loss: 1.7037 - sparse_categorical_accuracy: 0.6367 - val_loss: nan - val_sparse_categorical_accuracy: 0.8227\n",
      "Epoch 2/10\n",
      "110288/110288 [==============================] - 13s 118us/step - loss: 0.4225 - sparse_categorical_accuracy: 0.8669 - val_loss: nan - val_sparse_categorical_accuracy: 0.8977\n",
      "Epoch 3/10\n",
      "110288/110288 [==============================] - 13s 118us/step - loss: 0.2797 - sparse_categorical_accuracy: 0.9090 - val_loss: nan - val_sparse_categorical_accuracy: 0.9177\n",
      "Epoch 4/10\n",
      "110288/110288 [==============================] - 13s 118us/step - loss: 0.2320 - sparse_categorical_accuracy: 0.9221 - val_loss: nan - val_sparse_categorical_accuracy: 0.9244\n",
      "Epoch 5/10\n",
      "110288/110288 [==============================] - 13s 118us/step - loss: 0.2103 - sparse_categorical_accuracy: 0.9280 - val_loss: nan - val_sparse_categorical_accuracy: 0.9279\n",
      "Epoch 6/10\n",
      "110288/110288 [==============================] - 13s 118us/step - loss: 0.1945 - sparse_categorical_accuracy: 0.9321 - val_loss: nan - val_sparse_categorical_accuracy: 0.9306\n",
      "Epoch 7/10\n",
      "110288/110288 [==============================] - 13s 118us/step - loss: 0.1866 - sparse_categorical_accuracy: 0.9340 - val_loss: nan - val_sparse_categorical_accuracy: 0.9313\n",
      "Epoch 8/10\n",
      "110288/110288 [==============================] - 13s 118us/step - loss: 0.1805 - sparse_categorical_accuracy: 0.9356 - val_loss: nan - val_sparse_categorical_accuracy: 0.9337\n",
      "Epoch 9/10\n",
      "110288/110288 [==============================] - 13s 118us/step - loss: 0.1752 - sparse_categorical_accuracy: 0.9371 - val_loss: nan - val_sparse_categorical_accuracy: 0.9341\n",
      "Epoch 10/10\n",
      "110288/110288 [==============================] - 13s 118us/step - loss: 0.1745 - sparse_categorical_accuracy: 0.9370 - val_loss: nan - val_sparse_categorical_accuracy: 0.9342\n",
      "new jersey est parfois calme en l' automne et il est neigeux avril <PAD> <PAD> <PAD> <PAD> <PAD> <PAD> <PAD> <PAD>\n"
     ]
    }
   ],
   "source": [
    "def embed_model(input_shape, output_sequence_length, english_vocab_size, french_vocab_size):\n",
    "    \"\"\"\n",
    "    Build and train a RNN model using word embedding on x and y\n",
    "    :param input_shape: Tuple of input shape\n",
    "    :param output_sequence_length: Length of output sequence\n",
    "    :param english_vocab_size: Number of unique English words in the dataset\n",
    "    :param french_vocab_size: Number of unique French words in the dataset\n",
    "    :return: Keras model built, but not trained\n",
    "    \"\"\"\n",
    "    inp = Input(input_shape[1:3])\n",
    "    emb_eng = Embedding(english_vocab_size,256, input_length=input_shape[1])\n",
    "    #emb_fr = Embedding(french_vocab_size,128)\n",
    "    \n",
    "    x= emb_eng(inp)\n",
    "    x = GRU(256,return_sequences=True)(x)\n",
    "    #x = RepeatVector(output_sequence_length)(x)\n",
    "    x = TimeDistributed(Dense(french_vocab_size, activation='softmax'))(x)\n",
    "    model = Model(inp,x)\n",
    "    model.compile(loss=sparse_categorical_crossentropy,\n",
    "                  optimizer=Adam(lr=0.005),\n",
    "                  metrics=['sparse_categorical_accuracy'])\n",
    "    return model\n",
    "    \n",
    "tests.test_embed_model(embed_model)\n",
    "\n",
    "tmp_x = pad(preproc_english_sentences, max_french_sequence_length)\n",
    "tmp_x = tmp_x.reshape((-1, preproc_french_sentences.shape[-2]))\n",
    "\n",
    "print(tmp_x.shape)\n",
    "embed_rnn_model = embed_model(\n",
    "    tmp_x.shape,\n",
    "    max_french_sequence_length,\n",
    "    english_vocab_size,\n",
    "    french_vocab_size)\n",
    "\n",
    "print(embed_rnn_model.summary())\n",
    "embed_rnn_model.fit(tmp_x, preproc_french_sentences, batch_size=1024, epochs=10, validation_split=0.2)\n",
    "\n",
    "# Print prediction(s)\n",
    "print(logits_to_text(embed_rnn_model.predict(tmp_x[:1])[0], french_tokenizer))"
   ]
  },
  {
   "cell_type": "markdown",
   "metadata": {},
   "source": [
    "### Model 3: Bidirectional RNNs (IMPLEMENTATION)\n",
    "![RNN](images/bidirectional.png)\n",
    "One restriction of a RNN is that it can't see the future input, only the past.  This is where bidirectional recurrent neural networks come in.  They are able to see the future data."
   ]
  },
  {
   "cell_type": "code",
   "execution_count": 61,
   "metadata": {},
   "outputs": [
    {
     "name": "stdout",
     "output_type": "stream",
     "text": [
      "(137861, 21, 1)\n",
      "_________________________________________________________________\n",
      "Layer (type)                 Output Shape              Param #   \n",
      "=================================================================\n",
      "input_73 (InputLayer)        (None, 21, 1)             0         \n",
      "_________________________________________________________________\n",
      "bidirectional_28 (Bidirectio (None, 21, 512)           396288    \n",
      "_________________________________________________________________\n",
      "time_distributed_48 (TimeDis (None, 21, 344)           176472    \n",
      "=================================================================\n",
      "Total params: 572,760\n",
      "Trainable params: 572,760\n",
      "Non-trainable params: 0\n",
      "_________________________________________________________________\n",
      "None\n",
      "Train on 110288 samples, validate on 27573 samples\n",
      "Epoch 1/10\n",
      "110288/110288 [==============================] - 21s 187us/step - loss: 1.5746 - sparse_categorical_accuracy: 0.6055 - val_loss: nan - val_sparse_categorical_accuracy: 0.6598\n",
      "Epoch 2/10\n",
      "110288/110288 [==============================] - 17s 157us/step - loss: 1.0537 - sparse_categorical_accuracy: 0.6787 - val_loss: nan - val_sparse_categorical_accuracy: 0.6923\n",
      "Epoch 3/10\n",
      "110288/110288 [==============================] - 17s 157us/step - loss: 0.9201 - sparse_categorical_accuracy: 0.7015 - val_loss: nan - val_sparse_categorical_accuracy: 0.7006\n",
      "Epoch 4/10\n",
      "110288/110288 [==============================] - 17s 157us/step - loss: 0.8354 - sparse_categorical_accuracy: 0.7152 - val_loss: nan - val_sparse_categorical_accuracy: 0.7263\n",
      "Epoch 5/10\n",
      "110288/110288 [==============================] - 17s 157us/step - loss: 0.7808 - sparse_categorical_accuracy: 0.7272 - val_loss: nan - val_sparse_categorical_accuracy: 0.7335\n",
      "Epoch 6/10\n",
      "110288/110288 [==============================] - 17s 157us/step - loss: 0.7322 - sparse_categorical_accuracy: 0.7437 - val_loss: nan - val_sparse_categorical_accuracy: 0.7600\n",
      "Epoch 7/10\n",
      "110288/110288 [==============================] - 17s 157us/step - loss: 0.6743 - sparse_categorical_accuracy: 0.7702 - val_loss: nan - val_sparse_categorical_accuracy: 0.7305\n",
      "Epoch 8/10\n",
      "110288/110288 [==============================] - 17s 157us/step - loss: 0.6705 - sparse_categorical_accuracy: 0.7614 - val_loss: nan - val_sparse_categorical_accuracy: 0.7547\n",
      "Epoch 9/10\n",
      "110288/110288 [==============================] - 17s 157us/step - loss: 0.6195 - sparse_categorical_accuracy: 0.7855 - val_loss: nan - val_sparse_categorical_accuracy: 0.7403\n",
      "Epoch 10/10\n",
      "110288/110288 [==============================] - 17s 157us/step - loss: 0.5868 - sparse_categorical_accuracy: 0.7982 - val_loss: nan - val_sparse_categorical_accuracy: 0.7927\n",
      "new jersey est parfois calme en mois de il automne il est avril <PAD> <PAD> <PAD> <PAD> <PAD> <PAD> <PAD> <PAD>\n"
     ]
    }
   ],
   "source": [
    "def bd_model(input_shape, output_sequence_length, english_vocab_size, french_vocab_size):\n",
    "    \"\"\"\n",
    "    Build and train a bidirectional RNN model on x and y\n",
    "    :param input_shape: Tuple of input shape\n",
    "    :param output_sequence_length: Length of output sequence\n",
    "    :param english_vocab_size: Number of unique English words in the dataset\n",
    "    :param french_vocab_size: Number of unique French words in the dataset\n",
    "    :return: Keras model built, but not trained\n",
    "    \"\"\"\n",
    "    inp = Input(input_shape[1:3])\n",
    "    x = Bidirectional(GRU(256,return_sequences=True))(inp)\n",
    "    #x = RepeatVector(output_sequence_length)(x)\n",
    "    x = TimeDistributed(Dense(french_vocab_size, activation='softmax'))(x)\n",
    "    model = Model(inp,x)\n",
    "    model.compile(loss=sparse_categorical_crossentropy,\n",
    "                  optimizer=Adam(lr=0.005),\n",
    "                  metrics=['sparse_categorical_accuracy'])\n",
    "    return model\n",
    "\n",
    "tests.test_bd_model(bd_model)\n",
    "\n",
    "\n",
    "# TODO: Train and Print prediction(s)\n",
    "\n",
    "tmp_x = pad(preproc_english_sentences, max_french_sequence_length)\n",
    "tmp_x = tmp_x.reshape((-1, preproc_french_sentences.shape[-2], 1))\n",
    "\n",
    "print(tmp_x.shape)\n",
    "bi_rnn_model = bd_model(\n",
    "    tmp_x.shape,\n",
    "    max_french_sequence_length,\n",
    "    english_vocab_size,\n",
    "    french_vocab_size)\n",
    "\n",
    "print(bi_rnn_model.summary())\n",
    "bi_rnn_model.fit(tmp_x, preproc_french_sentences, batch_size=1024, epochs=10, validation_split=0.2)\n",
    "\n",
    "# Print prediction(s)\n",
    "print(logits_to_text(bi_rnn_model.predict(tmp_x[:1])[0], french_tokenizer))"
   ]
  },
  {
   "cell_type": "markdown",
   "metadata": {},
   "source": [
    "### Model 4: Encoder-Decoder (IMPLEMENTATION)\n",
    "Time to look at encoder-decoder models.  This model is made up of an encoder and decoder. The encoder creates a matrix representation of the sentence.  The decoder takes this matrix as input and predicts the translation as output.\n",
    "\n",
    "Create an encoder-decoder model in the cell below."
   ]
  },
  {
   "cell_type": "code",
   "execution_count": 39,
   "metadata": {},
   "outputs": [],
   "source": [
    "from keras.layers import LSTM"
   ]
  },
  {
   "cell_type": "code",
   "execution_count": 71,
   "metadata": {},
   "outputs": [
    {
     "name": "stdout",
     "output_type": "stream",
     "text": [
      "(137861, 15, 1)\n",
      "__________________________________________________________________________________________________\n",
      "Layer (type)                    Output Shape         Param #     Connected to                     \n",
      "==================================================================================================\n",
      "input_81 (InputLayer)           (None, 15, 1)        0                                            \n",
      "__________________________________________________________________________________________________\n",
      "lstm_57 (LSTM)                  [(None, 256), (None, 264192      input_81[0][0]                   \n",
      "__________________________________________________________________________________________________\n",
      "repeat_vector_26 (RepeatVector) (None, 21, 256)      0           lstm_57[0][0]                    \n",
      "__________________________________________________________________________________________________\n",
      "lstm_58 (LSTM)                  [(None, 21, 256), (N 525312      repeat_vector_26[0][0]           \n",
      "                                                                 lstm_57[0][1]                    \n",
      "                                                                 lstm_57[0][2]                    \n",
      "__________________________________________________________________________________________________\n",
      "time_distributed_55 (TimeDistri (None, 21, 344)      88408       lstm_58[0][0]                    \n",
      "==================================================================================================\n",
      "Total params: 877,912\n",
      "Trainable params: 877,912\n",
      "Non-trainable params: 0\n",
      "__________________________________________________________________________________________________\n",
      "None\n",
      "Train on 110288 samples, validate on 27573 samples\n",
      "Epoch 1/10\n",
      "110288/110288 [==============================] - 26s 237us/step - loss: 1.9975 - sparse_categorical_accuracy: 0.5397 - val_loss: nan - val_sparse_categorical_accuracy: 0.6011\n",
      "Epoch 2/10\n",
      "110288/110288 [==============================] - 22s 195us/step - loss: 1.3407 - sparse_categorical_accuracy: 0.6212 - val_loss: nan - val_sparse_categorical_accuracy: 0.6386\n",
      "Epoch 3/10\n",
      "110288/110288 [==============================] - 22s 195us/step - loss: 1.2032 - sparse_categorical_accuracy: 0.6447 - val_loss: nan - val_sparse_categorical_accuracy: 0.6593\n",
      "Epoch 4/10\n",
      "110288/110288 [==============================] - 21s 195us/step - loss: 1.1696 - sparse_categorical_accuracy: 0.6519 - val_loss: nan - val_sparse_categorical_accuracy: 0.6687\n",
      "Epoch 5/10\n",
      "110288/110288 [==============================] - 22s 195us/step - loss: 1.0866 - sparse_categorical_accuracy: 0.6678 - val_loss: nan - val_sparse_categorical_accuracy: 0.6831\n",
      "Epoch 6/10\n",
      "110288/110288 [==============================] - 22s 195us/step - loss: 1.0382 - sparse_categorical_accuracy: 0.6764 - val_loss: nan - val_sparse_categorical_accuracy: 0.6716\n",
      "Epoch 7/10\n",
      "110288/110288 [==============================] - 21s 195us/step - loss: 0.9983 - sparse_categorical_accuracy: 0.6811 - val_loss: nan - val_sparse_categorical_accuracy: 0.7018\n",
      "Epoch 8/10\n",
      "110288/110288 [==============================] - 21s 195us/step - loss: 0.9638 - sparse_categorical_accuracy: 0.6907 - val_loss: nan - val_sparse_categorical_accuracy: 0.6902\n",
      "Epoch 9/10\n",
      "110288/110288 [==============================] - 22s 195us/step - loss: 0.8875 - sparse_categorical_accuracy: 0.7102 - val_loss: nan - val_sparse_categorical_accuracy: 0.7252\n",
      "Epoch 10/10\n",
      "110288/110288 [==============================] - 21s 195us/step - loss: 0.8310 - sparse_categorical_accuracy: 0.7253 - val_loss: nan - val_sparse_categorical_accuracy: 0.7140\n",
      "new jersey est parfois pluvieux au mois de mai et il est neigeux <PAD> <PAD> <PAD> <PAD> <PAD> <PAD> <PAD> <PAD>\n"
     ]
    }
   ],
   "source": [
    "def encdec_model(input_shape, output_sequence_length, english_vocab_size, french_vocab_size):\n",
    "    \"\"\"\n",
    "    Build and train an encoder-decoder model on x and y\n",
    "    :param input_shape: Tuple of input shape\n",
    "    :param output_sequence_length: Length of output sequence\n",
    "    :param english_vocab_size: Number of unique English words in the dataset\n",
    "    :param french_vocab_size: Number of unique French words in the dataset\n",
    "    :return: Keras model built, but not trained\n",
    "    \"\"\"\n",
    "    inp = Input(input_shape[1:3])\n",
    "    encoder_outputs, state_h, state_c = LSTM(256, return_state=True)(inp)\n",
    "    x = RepeatVector(output_sequence_length)(encoder_outputs)\n",
    "    \n",
    "    x, _, _ = LSTM(256, return_sequences=True, return_state=True)(x,\n",
    "                                     initial_state=[state_h, state_c])\n",
    "    x = TimeDistributed(Dense(french_vocab_size, activation='softmax'))(x)\n",
    "    model = Model(inp,x)\n",
    "    model.compile(loss=sparse_categorical_crossentropy,\n",
    "                  optimizer=Adam(lr=0.005),\n",
    "                  metrics=['sparse_categorical_accuracy'])\n",
    "\n",
    "    return model\n",
    "tests.test_encdec_model(encdec_model)\n",
    "\n",
    "\n",
    "# TODO: Train and Print prediction(s)\n",
    "tmp_x = pad(preproc_english_sentences)\n",
    "tmp_x = np.expand_dims(tmp_x,-1)\n",
    "\n",
    "print(tmp_x.shape)\n",
    "encdec_rnn_model = encdec_model(\n",
    "    tmp_x.shape,\n",
    "    max_french_sequence_length,\n",
    "    english_vocab_size,\n",
    "    french_vocab_size)\n",
    "\n",
    "print(encdec_rnn_model.summary())\n",
    "encdec_rnn_model.fit(tmp_x, preproc_french_sentences, batch_size=1024, epochs=10, validation_split=0.2)\n",
    "\n",
    "# Print prediction(s)\n",
    "print(logits_to_text(encdec_rnn_model.predict(tmp_x[:1])[0], french_tokenizer))"
   ]
  },
  {
   "cell_type": "code",
   "execution_count": null,
   "metadata": {},
   "outputs": [],
   "source": []
  },
  {
   "cell_type": "markdown",
   "metadata": {},
   "source": [
    "### Model 5: Custom (IMPLEMENTATION)\n",
    "Use everything you learned from the previous models to create a model that incorporates embedding and a bidirectional rnn into one model."
   ]
  },
  {
   "cell_type": "code",
   "execution_count": 58,
   "metadata": {},
   "outputs": [
    {
     "name": "stdout",
     "output_type": "stream",
     "text": [
      "(?, 15, 256)\n",
      "Final Model Loaded\n",
      "(137861, 21)\n",
      "(?, 21, 256)\n",
      "_________________________________________________________________\n",
      "Layer (type)                 Output Shape              Param #   \n",
      "=================================================================\n",
      "input_67 (InputLayer)        (None, 21)                0         \n",
      "_________________________________________________________________\n",
      "embedding_42 (Embedding)     (None, 21, 256)           50944     \n",
      "_________________________________________________________________\n",
      "bidirectional_26 (Bidirectio (None, 256)               394240    \n",
      "_________________________________________________________________\n",
      "repeat_vector_19 (RepeatVect (None, 21, 256)           0         \n",
      "_________________________________________________________________\n",
      "lstm_43 (LSTM)               (None, 21, 256)           525312    \n",
      "_________________________________________________________________\n",
      "time_distributed_42 (TimeDis (None, 21, 344)           88408     \n",
      "=================================================================\n",
      "Total params: 1,058,904\n",
      "Trainable params: 1,058,904\n",
      "Non-trainable params: 0\n",
      "_________________________________________________________________\n",
      "None\n",
      "Train on 110288 samples, validate on 27573 samples\n",
      "Epoch 1/10\n",
      "110288/110288 [==============================] - 34s 305us/step - loss: 2.5593 - sparse_categorical_accuracy: 0.4766 - val_loss: nan - val_sparse_categorical_accuracy: 0.5744\n",
      "Epoch 2/10\n",
      "110288/110288 [==============================] - 30s 275us/step - loss: 1.4004 - sparse_categorical_accuracy: 0.6278 - val_loss: nan - val_sparse_categorical_accuracy: 0.6794\n",
      "Epoch 3/10\n",
      "110288/110288 [==============================] - 30s 275us/step - loss: 1.0302 - sparse_categorical_accuracy: 0.7144 - val_loss: nan - val_sparse_categorical_accuracy: 0.7510\n",
      "Epoch 4/10\n",
      "110288/110288 [==============================] - 30s 275us/step - loss: 0.7612 - sparse_categorical_accuracy: 0.7811 - val_loss: nan - val_sparse_categorical_accuracy: 0.8126\n",
      "Epoch 5/10\n",
      "110288/110288 [==============================] - 30s 275us/step - loss: 0.5788 - sparse_categorical_accuracy: 0.8303 - val_loss: nan - val_sparse_categorical_accuracy: 0.8597\n",
      "Epoch 6/10\n",
      "110288/110288 [==============================] - 30s 275us/step - loss: 0.4091 - sparse_categorical_accuracy: 0.8815 - val_loss: nan - val_sparse_categorical_accuracy: 0.9030\n",
      "Epoch 7/10\n",
      "110288/110288 [==============================] - 30s 276us/step - loss: 0.2891 - sparse_categorical_accuracy: 0.9228 - val_loss: nan - val_sparse_categorical_accuracy: 0.9374\n",
      "Epoch 8/10\n",
      "110288/110288 [==============================] - 30s 275us/step - loss: 0.2041 - sparse_categorical_accuracy: 0.9490 - val_loss: nan - val_sparse_categorical_accuracy: 0.9524\n",
      "Epoch 9/10\n",
      "110288/110288 [==============================] - 30s 275us/step - loss: 0.1599 - sparse_categorical_accuracy: 0.9594 - val_loss: nan - val_sparse_categorical_accuracy: 0.9586\n",
      "Epoch 10/10\n",
      "110288/110288 [==============================] - 30s 275us/step - loss: 0.1277 - sparse_categorical_accuracy: 0.9669 - val_loss: nan - val_sparse_categorical_accuracy: 0.9653\n",
      "new jersey est parfois calme pendant l' automne et il est neigeux en avril <PAD> <PAD> <PAD> <PAD> <PAD> <PAD> <PAD>\n"
     ]
    }
   ],
   "source": [
    "def model_final(input_shape, output_sequence_length, english_vocab_size, french_vocab_size):\n",
    "    \"\"\"\n",
    "    Build and train a model that incorporates embedding, encoder-decoder, and bidirectional RNN on x and y\n",
    "    :param input_shape: Tuple of input shape\n",
    "    :param output_sequence_length: Length of output sequence\n",
    "    :param english_vocab_size: Number of unique English words in the dataset\n",
    "    :param french_vocab_size: Number of unique French words in the dataset\n",
    "    :return: Keras model built, but not trained\n",
    "    \"\"\"\n",
    "    inp = Input(input_shape[1:])\n",
    "    \n",
    "    x = Embedding(english_vocab_size,256, input_length=input_shape[1])(inp)\n",
    "    print(x.shape)\n",
    "    \n",
    "    x = Bidirectional(LSTM(128))(x)\n",
    "    x = RepeatVector(output_sequence_length)(x)\n",
    "    x = LSTM(256, return_sequences=True)(x)\n",
    "    x = TimeDistributed(Dense(french_vocab_size, activation='softmax'))(x)\n",
    "    model = Model(inp,x)\n",
    "    model.compile(loss=sparse_categorical_crossentropy,\n",
    "                  optimizer=Adam(lr=0.005),\n",
    "                  metrics=['sparse_categorical_accuracy'])\n",
    "    \n",
    "\n",
    "    return model\n",
    "tests.test_model_final(model_final)\n",
    "\n",
    "print('Final Model Loaded')\n",
    "\n",
    "tmp_x = pad(preproc_english_sentences, max_french_sequence_length)\n",
    "tmp_x = tmp_x.reshape((-1, preproc_french_sentences.shape[-2]))\n",
    "\n",
    "print(tmp_x.shape)\n",
    "final_rnn_model = model_final(\n",
    "    tmp_x.shape,\n",
    "    max_french_sequence_length,\n",
    "    english_vocab_size,\n",
    "    french_vocab_size)\n",
    "\n",
    "print(final_rnn_model.summary())\n",
    "final_rnn_model.fit(tmp_x, preproc_french_sentences, batch_size=1024, epochs=10, validation_split=0.2)\n",
    "\n",
    "# Print prediction(s)\n",
    "print(logits_to_text(final_rnn_model.predict(tmp_x[:1])[0], french_tokenizer))"
   ]
  },
  {
   "cell_type": "markdown",
   "metadata": {},
   "source": [
    "## Prediction (IMPLEMENTATION)"
   ]
  },
  {
   "cell_type": "code",
   "execution_count": 69,
   "metadata": {},
   "outputs": [
    {
     "name": "stdout",
     "output_type": "stream",
     "text": [
      "before pad: (137861, 15)\n",
      "after pad: (137861, 15)\n",
      "(?, 15, 256)\n",
      "Train on 110288 samples, validate on 27573 samples\n",
      "Epoch 1/10\n",
      "110288/110288 [==============================] - 31s 283us/step - loss: 2.4007 - sparse_categorical_accuracy: 0.4898 - val_loss: nan - val_sparse_categorical_accuracy: 0.5565\n",
      "Epoch 2/10\n",
      "110288/110288 [==============================] - 26s 237us/step - loss: 1.4373 - sparse_categorical_accuracy: 0.6164 - val_loss: nan - val_sparse_categorical_accuracy: 0.6621\n",
      "Epoch 3/10\n",
      "110288/110288 [==============================] - 26s 237us/step - loss: 1.1128 - sparse_categorical_accuracy: 0.6912 - val_loss: nan - val_sparse_categorical_accuracy: 0.7194\n",
      "Epoch 4/10\n",
      "110288/110288 [==============================] - 26s 238us/step - loss: 0.8928 - sparse_categorical_accuracy: 0.7461 - val_loss: nan - val_sparse_categorical_accuracy: 0.7752\n",
      "Epoch 5/10\n",
      "110288/110288 [==============================] - 26s 237us/step - loss: 0.6872 - sparse_categorical_accuracy: 0.8009 - val_loss: nan - val_sparse_categorical_accuracy: 0.8277\n",
      "Epoch 6/10\n",
      "110288/110288 [==============================] - 26s 238us/step - loss: 0.5041 - sparse_categorical_accuracy: 0.8552 - val_loss: nan - val_sparse_categorical_accuracy: 0.8796\n",
      "Epoch 7/10\n",
      "110288/110288 [==============================] - 26s 238us/step - loss: 0.3611 - sparse_categorical_accuracy: 0.9005 - val_loss: nan - val_sparse_categorical_accuracy: 0.9144\n",
      "Epoch 8/10\n",
      "110288/110288 [==============================] - 26s 237us/step - loss: 0.2571 - sparse_categorical_accuracy: 0.9335 - val_loss: nan - val_sparse_categorical_accuracy: 0.9407\n",
      "Epoch 9/10\n",
      "110288/110288 [==============================] - 26s 238us/step - loss: 0.2012 - sparse_categorical_accuracy: 0.9479 - val_loss: nan - val_sparse_categorical_accuracy: 0.9556\n",
      "Epoch 10/10\n",
      "110288/110288 [==============================] - 26s 237us/step - loss: 0.1486 - sparse_categorical_accuracy: 0.9613 - val_loss: nan - val_sparse_categorical_accuracy: 0.9610\n",
      "Sample 1:\n",
      "il a vu un vieux camion jaune <PAD> <PAD> <PAD> <PAD> <PAD> <PAD> <PAD> <PAD> <PAD> <PAD> <PAD> <PAD> <PAD> <PAD>\n",
      "Il a vu un vieux camion jaune\n",
      "Sample 2:\n",
      "new jersey est parfois calme pendant l' automne il il est neigeux en avril <PAD> <PAD> <PAD> <PAD> <PAD> <PAD> <PAD>\n",
      "new jersey est parfois calme pendant l' automne et il est neigeux en avril <PAD> <PAD> <PAD> <PAD> <PAD> <PAD> <PAD>\n"
     ]
    }
   ],
   "source": [
    "def final_predictions(x, y, x_tk, y_tk):\n",
    "    \"\"\"\n",
    "    Gets predictions using the final model\n",
    "    :param x: Preprocessed English data\n",
    "    :param y: Preprocessed French data\n",
    "    :param x_tk: English tokenizer\n",
    "    :param y_tk: French tokenizer\n",
    "    \"\"\"\n",
    "    # TODO: Train neural network using model_final\n",
    "    print('before pad:', x.shape)\n",
    "    x = pad(x)\n",
    "    print('after pad:', x.shape)\n",
    "    \n",
    "    model = model_final(x.shape, max_french_sequence_length, english_vocab_size, french_vocab_size)\n",
    "    \n",
    "    model.fit(x, y, batch_size=1024, epochs=10, validation_split=0.2)\n",
    "    \n",
    "    ## DON'T EDIT ANYTHING BELOW THIS LINE\n",
    "    y_id_to_word = {value: key for key, value in y_tk.word_index.items()}\n",
    "    y_id_to_word[0] = '<PAD>'\n",
    "\n",
    "    sentence = 'he saw a old yellow truck'\n",
    "    sentence = [x_tk.word_index[word] for word in sentence.split()]\n",
    "    sentence = pad_sequences([sentence], maxlen=x.shape[-1], padding='post')\n",
    "    sentences = np.array([sentence[0], x[0]])\n",
    "    predictions = model.predict(sentences, len(sentences))\n",
    "\n",
    "    print('Sample 1:')\n",
    "    print(' '.join([y_id_to_word[np.argmax(x)] for x in predictions[0]]))\n",
    "    print('Il a vu un vieux camion jaune')\n",
    "    print('Sample 2:')\n",
    "    print(' '.join([y_id_to_word[np.argmax(x)] for x in predictions[1]]))\n",
    "    print(' '.join([y_id_to_word[np.max(x)] for x in y[0]]))\n",
    "\n",
    "\n",
    "final_predictions(preproc_english_sentences, preproc_french_sentences, english_tokenizer, french_tokenizer)"
   ]
  },
  {
   "cell_type": "markdown",
   "metadata": {},
   "source": [
    "## Submission\n",
    "When you're ready to submit, complete the following steps:\n",
    "1. Review the rubric to ensure your submission meets all requirements to pass\n",
    "2. Generate an HTML version of this notebook\n",
    "\n",
    "  - Run the next cell to attempt automatic generation (this is the recommended method in Workspaces)\n",
    "  - Navigate to **FILE -> Download as -> HTML (.html)**\n",
    "  - Manually generate a copy using `nbconvert` from your shell terminal\n",
    "```\n",
    "$ pip install nbconvert\n",
    "$ python -m nbconvert machine_translation.ipynb\n",
    "```\n",
    "  \n",
    "3. Submit the project\n",
    "\n",
    "  - If you are in a Workspace, simply click the \"Submit Project\" button (bottom towards the right)\n",
    "  \n",
    "  - Otherwise, add the following files into a zip archive and submit them \n",
    "  - `helper.py`\n",
    "  - `machine_translation.ipynb`\n",
    "  - `machine_translation.html`\n",
    "    - You can export the notebook by navigating to **File -> Download as -> HTML (.html)**."
   ]
  },
  {
   "cell_type": "markdown",
   "metadata": {},
   "source": [
    "### Generate the html\n",
    "\n",
    "**Save your notebook before running the next cell to generate the HTML output.** Then submit your project."
   ]
  },
  {
   "cell_type": "code",
   "execution_count": 72,
   "metadata": {},
   "outputs": [
    {
     "data": {
      "text/plain": [
       "['[NbConvertApp] Converting notebook machine_translation.ipynb to html',\n",
       " '[NbConvertApp] Writing 380981 bytes to machine_translation.html',\n",
       " '[NbConvertApp] Converting notebook machine_translation-zh.ipynb to html',\n",
       " '[NbConvertApp] Writing 328544 bytes to machine_translation-zh.html']"
      ]
     },
     "execution_count": 72,
     "metadata": {},
     "output_type": "execute_result"
    }
   ],
   "source": [
    "# Save before you run this cell!\n",
    "!!jupyter nbconvert *.ipynb"
   ]
  },
  {
   "cell_type": "markdown",
   "metadata": {},
   "source": [
    "## Optional Enhancements\n",
    "\n",
    "This project focuses on learning various network architectures for machine translation, but we don't evaluate the models according to best practices by splitting the data into separate test & training sets -- so the model accuracy is overstated. Use the [`sklearn.model_selection.train_test_split()`](http://scikit-learn.org/stable/modules/generated/sklearn.model_selection.train_test_split.html) function to create separate training & test datasets, then retrain each of the models using only the training set and evaluate the prediction accuracy using the hold out test set. Does the \"best\" model change?"
   ]
  },
  {
   "cell_type": "code",
   "execution_count": 1,
   "metadata": {},
   "outputs": [
    {
     "name": "stdout",
     "output_type": "stream",
     "text": [
      "CODEOWNERS  machine_translation.html\t  project_tests.py\r\n",
      "data\t    machine_translation.ipynb\t  __pycache__\r\n",
      "helper.py   machine_translation-zh.html   README.md\r\n",
      "images\t    machine_translation-zh.ipynb\r\n"
     ]
    }
   ],
   "source": [
    "!ls"
   ]
  },
  {
   "cell_type": "code",
   "execution_count": 3,
   "metadata": {},
   "outputs": [
    {
     "name": "stdout",
     "output_type": "stream",
     "text": [
      "  adding: CODEOWNERS (deflated 29%)\r\n",
      "  adding: CODEOWNERS.zip (stored 0%)\r\n",
      "  adding: README.md (deflated 47%)\r\n",
      "  adding: __pycache__/ (stored 0%)\r\n",
      "  adding: data/ (stored 0%)\r\n",
      "  adding: helper.py (deflated 32%)\r\n",
      "  adding: images/ (stored 0%)\r\n",
      "  adding: machine_translation-zh.html (deflated 84%)\r\n",
      "  adding: machine_translation-zh.ipynb (deflated 73%)\r\n",
      "  adding: machine_translation.html (deflated 85%)\r\n",
      "  adding: machine_translation.ipynb (deflated 81%)\r\n",
      "  adding: project_tests.py (deflated 76%)\r\n"
     ]
    }
   ],
   "source": [
    "!zip ws.zip *"
   ]
  },
  {
   "cell_type": "code",
   "execution_count": null,
   "metadata": {},
   "outputs": [],
   "source": []
  }
 ],
 "metadata": {
  "kernelspec": {
   "display_name": "Python 3",
   "language": "python",
   "name": "python3"
  },
  "language_info": {
   "codemirror_mode": {
    "name": "ipython",
    "version": 3
   },
   "file_extension": ".py",
   "mimetype": "text/x-python",
   "name": "python",
   "nbconvert_exporter": "python",
   "pygments_lexer": "ipython3",
   "version": "3.6.3"
  }
 },
 "nbformat": 4,
 "nbformat_minor": 1
}
